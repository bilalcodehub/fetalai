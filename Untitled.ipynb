{
 "cells": [
  {
   "cell_type": "code",
   "execution_count": 6,
   "id": "874dcf20-ef18-412a-be52-8cd0311cece5",
   "metadata": {},
   "outputs": [],
   "source": [
    "from torch import nn\n",
    "import torch"
   ]
  },
  {
   "cell_type": "code",
   "execution_count": 18,
   "id": "c8d52c1c-3fdd-4667-b037-5fa0836a6786",
   "metadata": {},
   "outputs": [],
   "source": [
    "class N(nn.Module):\n",
    "    def __init__(self, arch='resnet34', n_classes=None):\n",
    "        self.backbone = timm.create_body(arch)\n",
    "        nf = backbone.n_features()\n",
    "        self.head = nn.Linear(nf, n_classes)\n",
    "        \n",
    "    def forward(self, x):\n",
    "        \n",
    "        print('forward call for N')\n",
    "        x = self.backbone(x)\n",
    "        x = self.head(x)\n",
    "\n",
    "        return x\n"
   ]
  },
  {
   "cell_type": "code",
   "execution_count": 13,
   "id": "6a7811d1-b539-49b6-bfa8-18e45c4ac1d2",
   "metadata": {},
   "outputs": [],
   "source": [
    "net = N()"
   ]
  },
  {
   "cell_type": "code",
   "execution_count": 14,
   "id": "02be936a-b8a4-4320-ad3e-d5c6e9d48f0d",
   "metadata": {},
   "outputs": [
    {
     "data": {
      "text/plain": [
       "torch.Size([2, 3])"
      ]
     },
     "execution_count": 14,
     "metadata": {},
     "output_type": "execute_result"
    }
   ],
   "source": [
    "x=torch.randn(2,3); x.shape"
   ]
  },
  {
   "cell_type": "code",
   "execution_count": 15,
   "id": "1b36edf5-6ed2-4800-9a92-b1c121c4e7ec",
   "metadata": {},
   "outputs": [
    {
     "name": "stdout",
     "output_type": "stream",
     "text": [
      "forward call for N\n"
     ]
    }
   ],
   "source": [
    "net(x)"
   ]
  },
  {
   "cell_type": "code",
   "execution_count": 21,
   "id": "20c0bca0-2bde-4047-aad2-44fc511d84a2",
   "metadata": {},
   "outputs": [
    {
     "ename": "TypeError",
     "evalue": "N.forward() missing 1 required positional argument: 'x'",
     "output_type": "error",
     "traceback": [
      "\u001b[0;31m---------------------------------------------------------------------------\u001b[0m",
      "\u001b[0;31mTypeError\u001b[0m                                 Traceback (most recent call last)",
      "Cell \u001b[0;32mIn[21], line 1\u001b[0m\n\u001b[0;32m----> 1\u001b[0m \u001b[43mN\u001b[49m\u001b[38;5;241;43m.\u001b[39;49m\u001b[43mforward\u001b[49m\u001b[43m(\u001b[49m\u001b[43mx\u001b[49m\u001b[43m)\u001b[49m\n",
      "\u001b[0;31mTypeError\u001b[0m: N.forward() missing 1 required positional argument: 'x'"
     ]
    }
   ],
   "source": [
    "N.forward(x)"
   ]
  },
  {
   "cell_type": "code",
   "execution_count": null,
   "id": "03020471-8def-4384-86b8-861ce8edf6df",
   "metadata": {},
   "outputs": [],
   "source": []
  }
 ],
 "metadata": {
  "kernelspec": {
   "display_name": "Python 3 (ipykernel)",
   "language": "python",
   "name": "python3"
  },
  "language_info": {
   "codemirror_mode": {
    "name": "ipython",
    "version": 3
   },
   "file_extension": ".py",
   "mimetype": "text/x-python",
   "name": "python",
   "nbconvert_exporter": "python",
   "pygments_lexer": "ipython3",
   "version": "3.10.12"
  }
 },
 "nbformat": 4,
 "nbformat_minor": 5
}
