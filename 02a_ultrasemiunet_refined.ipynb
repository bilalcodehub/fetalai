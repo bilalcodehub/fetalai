{
 "cells": [
  {
   "cell_type": "code",
   "execution_count": 1,
   "id": "17078809-12dc-47c6-ba0c-1ed4cb08b5ef",
   "metadata": {},
   "outputs": [
    {
     "name": "stdout",
     "output_type": "stream",
     "text": [
      "\n",
      "epoch  train_loss sup_loss   unsup_loss sat_loss   dice      \n",
      "-----------------------------------------------------------------\n"
     ]
    },
    {
     "name": "stderr",
     "output_type": "stream",
     "text": [
      "Epoch 1/50: 100%|█████████████████████████████████████████████████████████████████████████████████████████████████████| 25/25 [00:08<00:00,  3.11it/s, sup=1.010, dice=0.734, sat=0.003]\n"
     ]
    },
    {
     "name": "stdout",
     "output_type": "stream",
     "text": [
      "1      1.4301      1.4296      0.1586      0.0025      0.6328\n"
     ]
    },
    {
     "name": "stderr",
     "output_type": "stream",
     "text": [
      "Epoch 2/50: 100%|█████████████████████████████████████████████████████████████████████████████████████████████████████| 25/25 [00:07<00:00,  3.39it/s, sup=0.746, dice=0.819, sat=0.004]\n"
     ]
    },
    {
     "name": "stdout",
     "output_type": "stream",
     "text": [
      "2      0.9479      0.9252      0.4370      0.0041      0.7532\n"
     ]
    },
    {
     "name": "stderr",
     "output_type": "stream",
     "text": [
      "Epoch 3/50: 100%|█████████████████████████████████████████████████████████████████████████████████████████████████████| 25/25 [00:07<00:00,  3.27it/s, sup=0.517, dice=0.897, sat=0.003]\n"
     ]
    },
    {
     "name": "stdout",
     "output_type": "stream",
     "text": [
      "3      0.7036      0.6619      0.4083      0.0047      0.8520\n"
     ]
    },
    {
     "name": "stderr",
     "output_type": "stream",
     "text": [
      "Epoch 4/50: 100%|█████████████████████████████████████████████████████████████████████████████████████████████████████| 25/25 [00:07<00:00,  3.23it/s, sup=0.402, dice=0.911, sat=0.003]\n"
     ]
    },
    {
     "name": "stdout",
     "output_type": "stream",
     "text": [
      "4      0.5788      0.5285      0.3291      0.0045      0.8846\n"
     ]
    },
    {
     "name": "stderr",
     "output_type": "stream",
     "text": [
      "Epoch 5/50: 100%|█████████████████████████████████████████████████████████████████████████████████████████████████████| 25/25 [00:07<00:00,  3.35it/s, sup=0.493, dice=0.907, sat=0.006]\n"
     ]
    },
    {
     "name": "stdout",
     "output_type": "stream",
     "text": [
      "5      0.4925      0.4358      0.2788      0.0055      0.9085\n"
     ]
    },
    {
     "name": "stderr",
     "output_type": "stream",
     "text": [
      "Epoch 6/50: 100%|█████████████████████████████████████████████████████████████████████████████████████████████████████| 25/25 [00:07<00:00,  3.16it/s, sup=0.423, dice=0.907, sat=0.004]\n"
     ]
    },
    {
     "name": "stdout",
     "output_type": "stream",
     "text": [
      "6      0.4115      0.3488      0.2467      0.0060      0.9291\n"
     ]
    },
    {
     "name": "stderr",
     "output_type": "stream",
     "text": [
      "Epoch 7/50: 100%|█████████████████████████████████████████████████████████████████████████████████████████████████████| 25/25 [00:07<00:00,  3.20it/s, sup=0.194, dice=0.964, sat=0.012]\n"
     ]
    },
    {
     "name": "stdout",
     "output_type": "stream",
     "text": [
      "7      0.3675      0.3033      0.2095      0.0080      0.9407\n"
     ]
    },
    {
     "name": "stderr",
     "output_type": "stream",
     "text": [
      "Epoch 8/50: 100%|█████████████████████████████████████████████████████████████████████████████████████████████████████| 25/25 [00:07<00:00,  3.25it/s, sup=0.232, dice=0.955, sat=0.005]\n"
     ]
    },
    {
     "name": "stdout",
     "output_type": "stream",
     "text": [
      "8      0.3357      0.2677      0.1903      0.0077      0.9487\n"
     ]
    },
    {
     "name": "stderr",
     "output_type": "stream",
     "text": [
      "Epoch 9/50: 100%|█████████████████████████████████████████████████████████████████████████████████████████████████████| 25/25 [00:07<00:00,  3.24it/s, sup=0.167, dice=0.965, sat=0.010]\n"
     ]
    },
    {
     "name": "stdout",
     "output_type": "stream",
     "text": [
      "9      0.3384      0.2674      0.1731      0.0106      0.9476\n"
     ]
    },
    {
     "name": "stderr",
     "output_type": "stream",
     "text": [
      "Epoch 10/50: 100%|████████████████████████████████████████████████████████████████████████████████████████████████████| 25/25 [00:08<00:00,  3.02it/s, sup=0.238, dice=0.955, sat=0.017]\n"
     ]
    },
    {
     "name": "stdout",
     "output_type": "stream",
     "text": [
      "10     0.3120      0.2374      0.1619      0.0108      0.9532\n"
     ]
    },
    {
     "name": "stderr",
     "output_type": "stream",
     "text": [
      "Epoch 11/50: 100%|████████████████████████████████████████████████████████████████████████████████████████████████████| 25/25 [00:06<00:00,  3.78it/s, sup=0.156, dice=0.967, sat=0.012]\n"
     ]
    },
    {
     "name": "stdout",
     "output_type": "stream",
     "text": [
      "11     0.2995      0.2258      0.1435      0.0124      0.9560\n"
     ]
    },
    {
     "name": "stderr",
     "output_type": "stream",
     "text": [
      "Epoch 12/50: 100%|████████████████████████████████████████████████████████████████████████████████████████████████████| 25/25 [00:06<00:00,  3.89it/s, sup=0.309, dice=0.949, sat=0.011]\n"
     ]
    },
    {
     "name": "stdout",
     "output_type": "stream",
     "text": [
      "12     0.2858      0.2123      0.1442      0.0090      0.9596\n"
     ]
    },
    {
     "name": "stderr",
     "output_type": "stream",
     "text": [
      "Epoch 13/50: 100%|████████████████████████████████████████████████████████████████████████████████████████████████████| 25/25 [00:07<00:00,  3.41it/s, sup=0.148, dice=0.967, sat=0.011]\n"
     ]
    },
    {
     "name": "stdout",
     "output_type": "stream",
     "text": [
      "13     0.2759      0.2077      0.1340      0.0081      0.9598\n"
     ]
    },
    {
     "name": "stderr",
     "output_type": "stream",
     "text": [
      "Epoch 14/50: 100%|████████████████████████████████████████████████████████████████████████████████████████████████████| 25/25 [00:06<00:00,  3.65it/s, sup=0.180, dice=0.966, sat=0.010]\n"
     ]
    },
    {
     "name": "stdout",
     "output_type": "stream",
     "text": [
      "14     0.2460      0.1791      0.1304      0.0110      0.9646\n"
     ]
    },
    {
     "name": "stderr",
     "output_type": "stream",
     "text": [
      "Epoch 15/50: 100%|████████████████████████████████████████████████████████████████████████████████████████████████████| 25/25 [00:07<00:00,  3.36it/s, sup=0.194, dice=0.966, sat=0.008]\n"
     ]
    },
    {
     "name": "stdout",
     "output_type": "stream",
     "text": [
      "15     0.2504      0.1872      0.1225      0.0140      0.9629\n"
     ]
    },
    {
     "name": "stderr",
     "output_type": "stream",
     "text": [
      "Epoch 16/50: 100%|████████████████████████████████████████████████████████████████████████████████████████████████████| 25/25 [00:07<00:00,  3.13it/s, sup=0.185, dice=0.963, sat=0.009]\n"
     ]
    },
    {
     "name": "stdout",
     "output_type": "stream",
     "text": [
      "16     0.2416      0.1808      0.1187      0.0104      0.9632\n"
     ]
    },
    {
     "name": "stderr",
     "output_type": "stream",
     "text": [
      "Epoch 17/50: 100%|████████████████████████████████████████████████████████████████████████████████████████████████████| 25/25 [00:07<00:00,  3.25it/s, sup=0.184, dice=0.963, sat=0.008]\n"
     ]
    },
    {
     "name": "stdout",
     "output_type": "stream",
     "text": [
      "17     0.2263      0.1701      0.1094      0.0110      0.9668\n"
     ]
    },
    {
     "name": "stderr",
     "output_type": "stream",
     "text": [
      "Epoch 18/50: 100%|████████████████████████████████████████████████████████████████████████████████████████████████████| 25/25 [00:07<00:00,  3.24it/s, sup=0.109, dice=0.978, sat=0.015]\n"
     ]
    },
    {
     "name": "stdout",
     "output_type": "stream",
     "text": [
      "18     0.2062      0.1508      0.1076      0.0122      0.9689\n"
     ]
    },
    {
     "name": "stderr",
     "output_type": "stream",
     "text": [
      "Epoch 19/50: 100%|████████████████████████████████████████████████████████████████████████████████████████████████████| 25/25 [00:07<00:00,  3.17it/s, sup=0.135, dice=0.964, sat=0.014]\n"
     ]
    },
    {
     "name": "stdout",
     "output_type": "stream",
     "text": [
      "19     0.2234      0.1695      0.1040      0.0146      0.9674\n"
     ]
    },
    {
     "name": "stderr",
     "output_type": "stream",
     "text": [
      "Epoch 20/50: 100%|████████████████████████████████████████████████████████████████████████████████████████████████████| 25/25 [00:07<00:00,  3.20it/s, sup=0.148, dice=0.966, sat=0.019]\n"
     ]
    },
    {
     "name": "stdout",
     "output_type": "stream",
     "text": [
      "20     0.2036      0.1513      0.1017      0.0123      0.9694\n"
     ]
    },
    {
     "name": "stderr",
     "output_type": "stream",
     "text": [
      "Epoch 21/50: 100%|████████████████████████████████████████████████████████████████████████████████████████████████████| 25/25 [00:07<00:00,  3.15it/s, sup=0.148, dice=0.976, sat=0.011]\n"
     ]
    },
    {
     "name": "stdout",
     "output_type": "stream",
     "text": [
      "21     0.1903      0.1373      0.1022      0.0157      0.9725\n"
     ]
    },
    {
     "name": "stderr",
     "output_type": "stream",
     "text": [
      "Epoch 22/50: 100%|████████████████████████████████████████████████████████████████████████████████████████████████████| 25/25 [00:07<00:00,  3.15it/s, sup=0.110, dice=0.974, sat=0.014]\n"
     ]
    },
    {
     "name": "stdout",
     "output_type": "stream",
     "text": [
      "22     0.1906      0.1428      0.0927      0.0125      0.9724\n"
     ]
    },
    {
     "name": "stderr",
     "output_type": "stream",
     "text": [
      "Epoch 23/50: 100%|████████████████████████████████████████████████████████████████████████████████████████████████████| 25/25 [00:07<00:00,  3.28it/s, sup=0.163, dice=0.967, sat=0.033]\n"
     ]
    },
    {
     "name": "stdout",
     "output_type": "stream",
     "text": [
      "23     0.1779      0.1286      0.0954      0.0142      0.9742\n"
     ]
    },
    {
     "name": "stderr",
     "output_type": "stream",
     "text": [
      "Epoch 24/50: 100%|████████████████████████████████████████████████████████████████████████████████████████████████████| 25/25 [00:07<00:00,  3.29it/s, sup=0.102, dice=0.979, sat=0.006]\n"
     ]
    },
    {
     "name": "stdout",
     "output_type": "stream",
     "text": [
      "24     0.1710      0.1236      0.0922      0.0120      0.9746\n"
     ]
    },
    {
     "name": "stderr",
     "output_type": "stream",
     "text": [
      "Epoch 25/50: 100%|████████████████████████████████████████████████████████████████████████████████████████████████████| 25/25 [00:07<00:00,  3.22it/s, sup=0.121, dice=0.978, sat=0.013]\n"
     ]
    },
    {
     "name": "stdout",
     "output_type": "stream",
     "text": [
      "25     0.1662      0.1218      0.0864      0.0122      0.9756\n"
     ]
    },
    {
     "name": "stderr",
     "output_type": "stream",
     "text": [
      "Epoch 26/50: 100%|████████████████████████████████████████████████████████████████████████████████████████████████████| 25/25 [00:07<00:00,  3.25it/s, sup=0.141, dice=0.979, sat=0.011]\n"
     ]
    },
    {
     "name": "stdout",
     "output_type": "stream",
     "text": [
      "26     0.1692      0.1236      0.0880      0.0161      0.9756\n"
     ]
    },
    {
     "name": "stderr",
     "output_type": "stream",
     "text": [
      "Epoch 27/50: 100%|████████████████████████████████████████████████████████████████████████████████████████████████████| 25/25 [00:07<00:00,  3.25it/s, sup=0.105, dice=0.981, sat=0.012]\n"
     ]
    },
    {
     "name": "stdout",
     "output_type": "stream",
     "text": [
      "27     0.1636      0.1202      0.0841      0.0147      0.9754\n"
     ]
    },
    {
     "name": "stderr",
     "output_type": "stream",
     "text": [
      "Epoch 28/50: 100%|████████████████████████████████████████████████████████████████████████████████████████████████████| 25/25 [00:07<00:00,  3.26it/s, sup=0.100, dice=0.979, sat=0.009]\n"
     ]
    },
    {
     "name": "stdout",
     "output_type": "stream",
     "text": [
      "28     0.1581      0.1152      0.0840      0.0101      0.9768\n"
     ]
    },
    {
     "name": "stderr",
     "output_type": "stream",
     "text": [
      "Epoch 29/50: 100%|████████████████████████████████████████████████████████████████████████████████████████████████████| 25/25 [00:07<00:00,  3.32it/s, sup=0.113, dice=0.972, sat=0.007]\n"
     ]
    },
    {
     "name": "stdout",
     "output_type": "stream",
     "text": [
      "29     0.1596      0.1164      0.0846      0.0108      0.9763\n"
     ]
    },
    {
     "name": "stderr",
     "output_type": "stream",
     "text": [
      "Epoch 30/50: 100%|████████████████████████████████████████████████████████████████████████████████████████████████████| 25/25 [00:07<00:00,  3.16it/s, sup=0.087, dice=0.982, sat=0.007]\n"
     ]
    },
    {
     "name": "stdout",
     "output_type": "stream",
     "text": [
      "30     0.1471      0.1048      0.0831      0.0100      0.9790\n"
     ]
    },
    {
     "name": "stderr",
     "output_type": "stream",
     "text": [
      "Epoch 31/50: 100%|████████████████████████████████████████████████████████████████████████████████████████████████████| 25/25 [00:07<00:00,  3.20it/s, sup=0.092, dice=0.981, sat=0.009]\n"
     ]
    },
    {
     "name": "stdout",
     "output_type": "stream",
     "text": [
      "31     0.1489      0.1081      0.0792      0.0147      0.9785\n"
     ]
    },
    {
     "name": "stderr",
     "output_type": "stream",
     "text": [
      "Epoch 32/50: 100%|████████████████████████████████████████████████████████████████████████████████████████████████████| 25/25 [00:07<00:00,  3.27it/s, sup=0.073, dice=0.988, sat=0.015]\n"
     ]
    },
    {
     "name": "stdout",
     "output_type": "stream",
     "text": [
      "32     0.1462      0.1047      0.0811      0.0130      0.9786\n"
     ]
    },
    {
     "name": "stderr",
     "output_type": "stream",
     "text": [
      "Epoch 33/50: 100%|████████████████████████████████████████████████████████████████████████████████████████████████████| 25/25 [00:07<00:00,  3.24it/s, sup=0.125, dice=0.977, sat=0.014]\n"
     ]
    },
    {
     "name": "stdout",
     "output_type": "stream",
     "text": [
      "33     0.1417      0.1018      0.0778      0.0145      0.9794\n"
     ]
    },
    {
     "name": "stderr",
     "output_type": "stream",
     "text": [
      "Epoch 34/50: 100%|████████████████████████████████████████████████████████████████████████████████████████████████████| 25/25 [00:07<00:00,  3.26it/s, sup=0.091, dice=0.981, sat=0.014]\n"
     ]
    },
    {
     "name": "stdout",
     "output_type": "stream",
     "text": [
      "34     0.1446      0.1042      0.0791      0.0126      0.9789\n"
     ]
    },
    {
     "name": "stderr",
     "output_type": "stream",
     "text": [
      "Epoch 35/50: 100%|████████████████████████████████████████████████████████████████████████████████████████████████████| 25/25 [00:07<00:00,  3.20it/s, sup=0.094, dice=0.983, sat=0.010]\n"
     ]
    },
    {
     "name": "stdout",
     "output_type": "stream",
     "text": [
      "35     0.1405      0.1018      0.0760      0.0124      0.9793\n"
     ]
    },
    {
     "name": "stderr",
     "output_type": "stream",
     "text": [
      "Epoch 36/50: 100%|████████████████████████████████████████████████████████████████████████████████████████████████████| 25/25 [00:07<00:00,  3.27it/s, sup=0.104, dice=0.979, sat=0.016]\n"
     ]
    },
    {
     "name": "stdout",
     "output_type": "stream",
     "text": [
      "36     0.1327      0.0944      0.0753      0.0118      0.9801\n"
     ]
    },
    {
     "name": "stderr",
     "output_type": "stream",
     "text": [
      "Epoch 37/50: 100%|████████████████████████████████████████████████████████████████████████████████████████████████████| 25/25 [00:07<00:00,  3.22it/s, sup=0.079, dice=0.984, sat=0.014]\n"
     ]
    },
    {
     "name": "stdout",
     "output_type": "stream",
     "text": [
      "37     0.1364      0.0973      0.0765      0.0143      0.9800\n"
     ]
    },
    {
     "name": "stderr",
     "output_type": "stream",
     "text": [
      "Epoch 38/50: 100%|████████████████████████████████████████████████████████████████████████████████████████████████████| 25/25 [00:08<00:00,  3.12it/s, sup=0.083, dice=0.981, sat=0.010]\n"
     ]
    },
    {
     "name": "stdout",
     "output_type": "stream",
     "text": [
      "38     0.1318      0.0933      0.0752      0.0167      0.9810\n"
     ]
    },
    {
     "name": "stderr",
     "output_type": "stream",
     "text": [
      "Epoch 39/50: 100%|████████████████████████████████████████████████████████████████████████████████████████████████████| 25/25 [00:07<00:00,  3.22it/s, sup=0.075, dice=0.980, sat=0.013]\n"
     ]
    },
    {
     "name": "stdout",
     "output_type": "stream",
     "text": [
      "39     0.1317      0.0930      0.0762      0.0140      0.9807\n"
     ]
    },
    {
     "name": "stderr",
     "output_type": "stream",
     "text": [
      "Epoch 40/50: 100%|████████████████████████████████████████████████████████████████████████████████████████████████████| 25/25 [00:07<00:00,  3.16it/s, sup=0.097, dice=0.979, sat=0.008]\n"
     ]
    },
    {
     "name": "stdout",
     "output_type": "stream",
     "text": [
      "40     0.1354      0.0978      0.0737      0.0159      0.9799\n"
     ]
    },
    {
     "name": "stderr",
     "output_type": "stream",
     "text": [
      "Epoch 41/50: 100%|████████████████████████████████████████████████████████████████████████████████████████████████████| 25/25 [00:07<00:00,  3.20it/s, sup=0.117, dice=0.984, sat=0.036]\n"
     ]
    },
    {
     "name": "stdout",
     "output_type": "stream",
     "text": [
      "41     0.1316      0.0948      0.0725      0.0131      0.9809\n"
     ]
    },
    {
     "name": "stderr",
     "output_type": "stream",
     "text": [
      "Epoch 42/50: 100%|████████████████████████████████████████████████████████████████████████████████████████████████████| 25/25 [00:07<00:00,  3.28it/s, sup=0.080, dice=0.983, sat=0.009]\n"
     ]
    },
    {
     "name": "stdout",
     "output_type": "stream",
     "text": [
      "42     0.1262      0.0891      0.0734      0.0119      0.9815\n"
     ]
    },
    {
     "name": "stderr",
     "output_type": "stream",
     "text": [
      "Epoch 43/50: 100%|████████████████████████████████████████████████████████████████████████████████████████████████████| 25/25 [00:07<00:00,  3.19it/s, sup=0.118, dice=0.982, sat=0.009]\n"
     ]
    },
    {
     "name": "stdout",
     "output_type": "stream",
     "text": [
      "43     0.1271      0.0907      0.0722      0.0111      0.9814\n"
     ]
    },
    {
     "name": "stderr",
     "output_type": "stream",
     "text": [
      "Epoch 44/50: 100%|████████████████████████████████████████████████████████████████████████████████████████████████████| 25/25 [00:07<00:00,  3.16it/s, sup=0.088, dice=0.980, sat=0.006]\n"
     ]
    },
    {
     "name": "stdout",
     "output_type": "stream",
     "text": [
      "44     0.1233      0.0866      0.0728      0.0110      0.9826\n"
     ]
    },
    {
     "name": "stderr",
     "output_type": "stream",
     "text": [
      "Epoch 45/50: 100%|████████████████████████████████████████████████████████████████████████████████████████████████████| 25/25 [00:07<00:00,  3.25it/s, sup=0.085, dice=0.980, sat=0.013]\n"
     ]
    },
    {
     "name": "stdout",
     "output_type": "stream",
     "text": [
      "45     0.1281      0.0913      0.0730      0.0132      0.9810\n"
     ]
    },
    {
     "name": "stderr",
     "output_type": "stream",
     "text": [
      "Epoch 46/50: 100%|████████████████████████████████████████████████████████████████████████████████████████████████████| 25/25 [00:07<00:00,  3.21it/s, sup=0.110, dice=0.982, sat=0.012]\n"
     ]
    },
    {
     "name": "stdout",
     "output_type": "stream",
     "text": [
      "46     0.1282      0.0921      0.0717      0.0116      0.9816\n"
     ]
    },
    {
     "name": "stderr",
     "output_type": "stream",
     "text": [
      "Epoch 47/50: 100%|████████████████████████████████████████████████████████████████████████████████████████████████████| 25/25 [00:07<00:00,  3.19it/s, sup=0.105, dice=0.983, sat=0.012]\n"
     ]
    },
    {
     "name": "stdout",
     "output_type": "stream",
     "text": [
      "47     0.1233      0.0866      0.0731      0.0110      0.9823\n"
     ]
    },
    {
     "name": "stderr",
     "output_type": "stream",
     "text": [
      "Epoch 48/50: 100%|████████████████████████████████████████████████████████████████████████████████████████████████████| 25/25 [00:07<00:00,  3.26it/s, sup=0.094, dice=0.979, sat=0.017]\n"
     ]
    },
    {
     "name": "stdout",
     "output_type": "stream",
     "text": [
      "48     0.1285      0.0923      0.0721      0.0131      0.9809\n"
     ]
    },
    {
     "name": "stderr",
     "output_type": "stream",
     "text": [
      "Epoch 49/50: 100%|████████████████████████████████████████████████████████████████████████████████████████████████████| 25/25 [00:07<00:00,  3.31it/s, sup=0.102, dice=0.984, sat=0.012]\n"
     ]
    },
    {
     "name": "stdout",
     "output_type": "stream",
     "text": [
      "49     0.1292      0.0923      0.0737      0.0124      0.9816\n"
     ]
    },
    {
     "name": "stderr",
     "output_type": "stream",
     "text": [
      "Epoch 50/50: 100%|████████████████████████████████████████████████████████████████████████████████████████████████████| 25/25 [00:07<00:00,  3.16it/s, sup=0.071, dice=0.987, sat=0.008]\n"
     ]
    },
    {
     "name": "stdout",
     "output_type": "stream",
     "text": [
      "50     0.1241      0.0879      0.0722      0.0136      0.9821\n",
      "-----------------------------------------------------------------\n",
      "Training completed!\n"
     ]
    }
   ],
   "source": [
    "\n",
    "import os\n",
    "import torch\n",
    "import torch.nn as nn\n",
    "import torch.nn.functional as F\n",
    "import torch.optim as optim\n",
    "from torch.utils.data import Dataset, DataLoader\n",
    "from tqdm import tqdm\n",
    "from PIL import Image\n",
    "import torchvision.transforms as T\n",
    "import segmentation_models_pytorch as smp\n",
    "import numpy as np\n",
    "import matplotlib.pyplot as plt\n",
    "\n",
    "# Configuration\n",
    "CONFIG = {\n",
    "    \"labeled_img\": \"dataset/labeled_data/images\",\n",
    "    \"labeled_mask\": \"dataset/labeled_data/labels\",\n",
    "    \"unlabeled_img\": \"dataset/unlabeled_data/images\",\n",
    "    \"epochs\": 50,\n",
    "    \"batch_size\": 2,\n",
    "    \"lr\": 1e-4,\n",
    "    \"num_classes\": 3,\n",
    "    \"save_dir\": \"models\",\n",
    "    \"num_workers\": 2,\n",
    "    \"encoder\": \"efficientnet-b5\",\n",
    "    \"device\": \"cuda\" if torch.cuda.is_available() else \"cpu\"\n",
    "}\n",
    "\n",
    "# Transforms\n",
    "transform_labeled = T.Compose([\n",
    "    T.Resize((384, 384)),\n",
    "    T.RandomHorizontalFlip(p=0.5),\n",
    "    T.ColorJitter(0.2, 0.2, 0.2, 0.1),\n",
    "    T.ToTensor(),\n",
    "])\n",
    "\n",
    "transform_unlabeled = T.Compose([\n",
    "    T.Resize((384, 384)),\n",
    "    T.RandomHorizontalFlip(p=0.5),\n",
    "    T.ColorJitter(0.3, 0.3, 0.3, 0.2),\n",
    "    T.ToTensor(),\n",
    "])\n",
    "\n",
    "transform_mask = T.Compose([\n",
    "    T.Resize((384, 384), interpolation=Image.NEAREST),\n",
    "    T.PILToTensor(),\n",
    "    lambda x: x.squeeze(0).long()\n",
    "])\n",
    "\n",
    "# Dataset\n",
    "class CervicalDataset(Dataset):\n",
    "    def __init__(self, img_dir, mask_dir=None):\n",
    "        self.img_dir = img_dir\n",
    "        self.mask_dir = mask_dir\n",
    "        self.images = sorted([os.path.join(img_dir, f) for f in os.listdir(img_dir) \n",
    "                            if f.endswith(('.png', '.jpg'))])\n",
    "        if mask_dir:\n",
    "            self.masks = sorted([os.path.join(mask_dir, f) for f in os.listdir(mask_dir) \n",
    "                               if f.endswith(('.png', '.jpg'))])\n",
    "\n",
    "    def __len__(self):\n",
    "        return len(self.images)\n",
    "\n",
    "    def __getitem__(self, idx):\n",
    "        image = Image.open(self.images[idx]).convert(\"RGB\")\n",
    "        if self.mask_dir:\n",
    "            mask = Image.open(self.masks[idx]).convert(\"L\")\n",
    "            return transform_labeled(image), transform_mask(mask)\n",
    "        return transform_unlabeled(image)\n",
    "\n",
    "# Semi-Supervised Model Wrapper\n",
    "class SemiSupervisedModel(nn.Module):\n",
    "    def __init__(self, num_classes=3, alpha=0.999):\n",
    "        super().__init__()\n",
    "        self.student = smp.DeepLabV3Plus(\n",
    "            encoder_name=CONFIG['encoder'],\n",
    "            encoder_weights='imagenet',\n",
    "            in_channels=3,\n",
    "            classes=num_classes,\n",
    "            activation=None\n",
    "        )\n",
    "        self.teacher = smp.DeepLabV3Plus(\n",
    "            encoder_name=CONFIG['encoder'],\n",
    "            encoder_weights='imagenet',\n",
    "            in_channels=3,\n",
    "            classes=num_classes,\n",
    "            activation=None\n",
    "        )\n",
    "        self._init_teacher()\n",
    "        self.alpha = alpha\n",
    "        \n",
    "    def _init_teacher(self):\n",
    "        with torch.no_grad():\n",
    "            for t_param, s_param in zip(self.teacher.parameters(), self.student.parameters()):\n",
    "                t_param.data.copy_(s_param.data)\n",
    "                \n",
    "    @torch.no_grad()\n",
    "    def update_teacher(self, global_step):\n",
    "        alpha = min(1 - 1/(global_step/100 + 1), self.alpha)\n",
    "        for t_param, s_param in zip(self.teacher.parameters(), self.student.parameters()):\n",
    "            t_param.data.mul_(alpha).add_(s_param.data, alpha=1-alpha)\n",
    "            \n",
    "    def forward(self, x):\n",
    "        return self.student(x)\n",
    "\n",
    "# Loss Functions\n",
    "def compute_sat_loss(student_feats, teacher_feats, temperature=0.1):\n",
    "    student_feats = F.normalize(student_feats, p=2, dim=1)\n",
    "    teacher_feats = F.normalize(teacher_feats, p=2, dim=1)\n",
    "    sim_matrix = torch.mm(student_feats, teacher_feats.t()) / temperature\n",
    "    pos_sim = torch.diag(sim_matrix)\n",
    "    neg_sim = (sim_matrix.sum(dim=1) - pos_sim) / (sim_matrix.size(1) - 1)\n",
    "    loss = -torch.log(torch.exp(pos_sim) / (torch.exp(pos_sim) + torch.exp(neg_sim) + 1e-8)).mean()\n",
    "    return loss\n",
    "\n",
    "class CombinedLoss(nn.Module):\n",
    "    def __init__(self, class_weights=None):\n",
    "        super().__init__()\n",
    "        self.ce_loss = nn.CrossEntropyLoss(weight=class_weights)\n",
    "        \n",
    "    def forward(self, preds, targets):\n",
    "        ce = self.ce_loss(preds, targets)\n",
    "        preds_soft = F.softmax(preds, dim=1)\n",
    "        targets_oh = F.one_hot(targets, num_classes=CONFIG['num_classes']).permute(0,3,1,2).float()\n",
    "        intersection = (preds_soft * targets_oh).sum(dim=(2,3))\n",
    "        union = preds_soft.sum(dim=(2,3)) + targets_oh.sum(dim=(2,3))\n",
    "        dice = 1 - (2 * intersection + 1e-6) / (union + 1e-6)\n",
    "        return ce + dice.mean()\n",
    "\n",
    "# Training Function\n",
    "def train():\n",
    "    device = torch.device(CONFIG['device'])\n",
    "    os.makedirs(CONFIG['save_dir'], exist_ok=True)\n",
    "    \n",
    "    # Datasets\n",
    "    labeled_ds = CervicalDataset(CONFIG['labeled_img'], CONFIG['labeled_mask'])\n",
    "    unlabeled_ds = CervicalDataset(CONFIG['unlabeled_img'])\n",
    "    \n",
    "    # Class weights\n",
    "    class_counts = torch.zeros(CONFIG['num_classes'])\n",
    "    for _, mask in labeled_ds:\n",
    "        class_counts += torch.bincount(mask.flatten(), minlength=CONFIG['num_classes'])\n",
    "    class_weights = (1.0 / (class_counts / class_counts.sum())).to(device)\n",
    "    \n",
    "    # Data loaders\n",
    "    labeled_loader = DataLoader(labeled_ds, batch_size=CONFIG['batch_size'], \n",
    "                               shuffle=True, num_workers=CONFIG['num_workers'], pin_memory=True)\n",
    "    unlabeled_loader = DataLoader(unlabeled_ds, batch_size=CONFIG['batch_size']*2,\n",
    "                                 shuffle=True, num_workers=CONFIG['num_workers'], pin_memory=True)\n",
    "    \n",
    "    # Model and optimizer\n",
    "    model = SemiSupervisedModel(num_classes=CONFIG['num_classes']).to(device)\n",
    "    optimizer = optim.AdamW(model.parameters(), lr=CONFIG['lr'], weight_decay=1e-4)\n",
    "    scheduler = torch.optim.lr_scheduler.CosineAnnealingLR(optimizer, T_max=CONFIG['epochs'])\n",
    "    sup_criterion = CombinedLoss(class_weights)\n",
    "    unsup_criterion = CombinedLoss()\n",
    "    \n",
    "    # Training loop\n",
    "    best_dice = 0.0\n",
    "    global_step = 0\n",
    "    \n",
    "    print(f\"\\n{'epoch':<6} {'train_loss':<10} {'sup_loss':<10} {'unsup_loss':<10} {'sat_loss':<10} {'dice':<10}\")\n",
    "    print(\"-\"*65)\n",
    "    \n",
    "    for epoch in range(CONFIG['epochs']):\n",
    "        model.train()\n",
    "        metrics = {'total':0, 'sup':0, 'unsup':0, 'sat':0, 'dice':0}\n",
    "        \n",
    "        # Dynamic parameters\n",
    "        current_thresh = 0.65 + min(epoch/CONFIG['epochs'], 1)*0.25\n",
    "        current_lambda_unsup = min(epoch/10 * 0.5, 0.5)\n",
    "        current_lambda_sat = 0.2 * (1 - epoch/CONFIG['epochs'])\n",
    "        \n",
    "        pbar = tqdm(zip(labeled_loader, unlabeled_loader), \n",
    "                   total=min(len(labeled_loader), len(unlabeled_loader)), \n",
    "                   desc=f\"Epoch {epoch+1}/{CONFIG['epochs']}\")\n",
    "        \n",
    "        for (labeled_x, labeled_y), unlabeled_x in pbar:\n",
    "            labeled_x, labeled_y = labeled_x.to(device), labeled_y.to(device)\n",
    "            unlabeled_x = unlabeled_x.to(device)\n",
    "            \n",
    "            # Supervised forward\n",
    "            student_preds = model(labeled_x)\n",
    "            sup_loss = sup_criterion(student_preds, labeled_y)\n",
    "            \n",
    "            # Unsupervised forward\n",
    "            with torch.no_grad():\n",
    "                teacher_preds = model.teacher(unlabeled_x)\n",
    "                pseudo_probs = F.softmax(teacher_preds, dim=1)\n",
    "                max_probs, pseudo_labels = torch.max(pseudo_probs, dim=1)\n",
    "                mask = (max_probs > current_thresh).float()\n",
    "                \n",
    "            unsup_loss = 0.0\n",
    "            if mask.sum() > 0:\n",
    "                student_u_preds = model(unlabeled_x)\n",
    "                unsup_loss = unsup_criterion(student_u_preds, pseudo_labels) * mask.mean()\n",
    "            \n",
    "            # Feature alignment loss (corrected)\n",
    "            with torch.no_grad():\n",
    "                t_features = model.teacher.encoder(unlabeled_x)[-1].flatten(1)  # Fixed line\n",
    "            s_features = model.student.encoder(unlabeled_x)[-1].flatten(1)\n",
    "            sat_loss = compute_sat_loss(s_features, t_features)\n",
    "            \n",
    "            # Total loss\n",
    "            total_loss = sup_loss + current_lambda_unsup*unsup_loss + current_lambda_sat*sat_loss\n",
    "            \n",
    "            # Optimization\n",
    "            optimizer.zero_grad()\n",
    "            total_loss.backward()\n",
    "            nn.utils.clip_grad_norm_(model.parameters(), 1.0)\n",
    "            optimizer.step()\n",
    "            model.update_teacher(global_step)\n",
    "            global_step += 1\n",
    "            \n",
    "            # Metrics\n",
    "            with torch.no_grad():\n",
    "                dice = (2 * (student_preds.argmax(1) == labeled_y).sum() / \n",
    "                       (student_preds.argmax(1).numel() + labeled_y.numel() + 1e-8))\n",
    "            \n",
    "            metrics['total'] += total_loss.item()\n",
    "            metrics['sup'] += sup_loss.item()\n",
    "            metrics['unsup'] += unsup_loss.item() if unsup_loss != 0 else 0\n",
    "            metrics['sat'] += sat_loss.item()\n",
    "            metrics['dice'] += dice.item()\n",
    "            \n",
    "            pbar.set_postfix({\n",
    "                \"sup\": f\"{sup_loss.item():.3f}\",\n",
    "                \"dice\": f\"{dice.item():.3f}\",\n",
    "                \"sat\": f\"{sat_loss.item():.3f}\"\n",
    "            })\n",
    "        \n",
    "        # Epoch metrics\n",
    "        avg_metrics = {k: v/len(labeled_loader) for k, v in metrics.items()}\n",
    "        print(f\"{epoch+1:<6} {avg_metrics['total']:.4f}{'':<5} {avg_metrics['sup']:.4f}{'':<5} \"\n",
    "              f\"{avg_metrics['unsup']:.4f}{'':<5} {avg_metrics['sat']:.4f}{'':<5} {avg_metrics['dice']:.4f}\")\n",
    "        \n",
    "        scheduler.step()\n",
    "        torch.save(model.state_dict(), os.path.join(CONFIG['save_dir'], f\"epoch_{epoch+1}.pth\"))\n",
    "    \n",
    "    print(\"-\"*65)\n",
    "    print(\"Training completed!\")\n",
    "\n",
    "if __name__ == \"__main__\":\n",
    "    train()"
   ]
  },
  {
   "cell_type": "code",
   "execution_count": 2,
   "id": "c6804d38-4ef1-4592-81ef-0305a0e44fea",
   "metadata": {},
   "outputs": [],
   "source": [
    "def generate_and_save_masks(model, unlabeled_img_dir, device=\"cuda\"):\n",
    "    \"\"\"Generate masks for unlabeled images and save in parallel 'labels' folder\"\"\"\n",
    "    # Create labels directory at same level as images\n",
    "    base_dir = os.path.dirname(unlabeled_img_dir)\n",
    "    labels_dir = os.path.join(base_dir, \"labels\")\n",
    "    os.makedirs(labels_dir, exist_ok=True)\n",
    "    \n",
    "    transform = T.Compose([\n",
    "        T.Resize((256, 256)),\n",
    "        T.ToTensor(),\n",
    "    ])\n",
    "    \n",
    "    model.eval()\n",
    "    image_paths = [f for f in os.listdir(unlabeled_img_dir) \n",
    "                  if f.endswith(('.png', '.jpg', '.jpeg'))]\n",
    "    \n",
    "    with torch.no_grad():\n",
    "        for img_name in tqdm(image_paths, desc=\"Generating Labels\"):\n",
    "            img_path = os.path.join(unlabeled_img_dir, img_name)\n",
    "            image = Image.open(img_path).convert(\"RGB\")\n",
    "            input_tensor = transform(image).unsqueeze(0).to(device)\n",
    "            \n",
    "            # Predict and save\n",
    "            output = model(input_tensor)\n",
    "            mask = torch.argmax(output.squeeze(), dim=0).cpu().numpy().astype(np.uint8)\n",
    "            \n",
    "            # Save with same name in labels folder\n",
    "            base_name = os.path.splitext(img_name)[0]\n",
    "            mask_path = os.path.join(labels_dir, f\"{base_name}.png\")\n",
    "            Image.fromarray(mask).save(mask_path)\n",
    "\n",
    "def visualize_predictions(image_dir, labels_dir=None, model=None, num_samples=4, device=\"cuda\"):\n",
    "    \"\"\"Visualize images with ground truth/predicted labels\"\"\"\n",
    "    # Create dataset\n",
    "    dataset = CervicalDataset(image_dir, labels_dir)\n",
    "    loader = DataLoader(dataset, batch_size=num_samples, shuffle=True)\n",
    "    \n",
    "    # Get batch\n",
    "    images, labels = next(iter(loader)) if labels_dir else (next(iter(loader)), None)\n",
    "    \n",
    "    # Get predictions if model provided\n",
    "    if model:\n",
    "        model.eval()\n",
    "        with torch.no_grad():\n",
    "            inputs = images.to(device)\n",
    "            outputs = model(inputs)\n",
    "            pred_labels = torch.argmax(outputs.cpu(), dim=1)\n",
    "    \n",
    "    # Setup plot\n",
    "    plt.figure(figsize=(20, 10 if model else 5))\n",
    "    cols = 3 if (model and labels_dir) else 2\n",
    "    class_colors = {0: [0,0,0], 1: [255,0,0], 2: [0,255,0]}  # Update based on classes\n",
    "    \n",
    "    for i in range(num_samples):\n",
    "        # Original Image\n",
    "        plt.subplot(num_samples, cols, i*cols + 1)\n",
    "        img = images[i].permute(1, 2, 0).numpy()\n",
    "        plt.imshow(img)\n",
    "        plt.title(\"Input Image\")\n",
    "        plt.axis('off')\n",
    "        \n",
    "        # Ground Truth Labels (if available)\n",
    "        if labels_dir and labels is not None:\n",
    "            plt.subplot(num_samples, cols, i*cols + 2)\n",
    "            label = labels[i].numpy()\n",
    "            colored_label = np.zeros((*label.shape, 3), dtype=np.uint8)\n",
    "            for class_id, color in class_colors.items():\n",
    "                colored_label[label == class_id] = color\n",
    "            plt.imshow(colored_label)\n",
    "            plt.title(\"Ground Truth\")\n",
    "            plt.axis('off')\n",
    "        \n",
    "        # Predicted Labels (if model provided)\n",
    "        if model:\n",
    "            col_idx = i*cols + (3 if labels_dir else 2)\n",
    "            plt.subplot(num_samples, cols, col_idx)\n",
    "            pred = pred_labels[i].numpy()\n",
    "            colored_pred = np.zeros((*pred.shape, 3), dtype=np.uint8)\n",
    "            for class_id, color in class_colors.items():\n",
    "                colored_pred[pred == class_id] = color\n",
    "            \n",
    "            plt.imshow(colored_pred)\n",
    "            plt.title(\"Predicted Labels\")\n",
    "            plt.axis('off')\n",
    "    \n",
    "    plt.tight_layout()\n",
    "    plt.show()"
   ]
  },
  {
   "cell_type": "code",
   "execution_count": 3,
   "id": "6e95e0f5-1cbe-4b7d-b5f4-8a0921f808a3",
   "metadata": {},
   "outputs": [],
   "source": [
    "# After training\n",
    "device=\"cuda\""
   ]
  },
  {
   "cell_type": "code",
   "execution_count": 4,
   "id": "37e1a8ef-9aee-4b9d-bf86-704250a55a53",
   "metadata": {},
   "outputs": [
    {
     "data": {
      "text/plain": [
       "<All keys matched successfully>"
      ]
     },
     "execution_count": 4,
     "metadata": {},
     "output_type": "execute_result"
    }
   ],
   "source": [
    "model = SemiSupervisedModel(num_classes=3).to(device)\n",
    "model.load_state_dict(torch.load(\"models/epoch_50.pth\"))  # Load best model"
   ]
  },
  {
   "cell_type": "code",
   "execution_count": 5,
   "id": "4697492c-1314-47f6-b208-028ed0984e0e",
   "metadata": {},
   "outputs": [
    {
     "name": "stderr",
     "output_type": "stream",
     "text": [
      "Generating Labels: 100%|██████████████████████████████████████████████████████████████████████████████████████████████████████████████████████████████| 450/450 [00:09<00:00, 48.25it/s]\n"
     ]
    }
   ],
   "source": [
    "# Generate labels for unlabeled data\n",
    "generate_and_save_masks(\n",
    "    model=model,\n",
    "    unlabeled_img_dir=\"dataset/unlabeled_data/images\",\n",
    "    device=device\n",
    ")"
   ]
  },
  {
   "cell_type": "code",
   "execution_count": 6,
   "id": "c6b99c8e-720c-43a4-a733-be522f9e4322",
   "metadata": {},
   "outputs": [
    {
     "data": {
      "image/png": "[encoded data removed]",
      "text/plain": [
       "<Figure size 2000x500 with 8 Axes>"
      ]
     },
     "metadata": {},
     "output_type": "display_data"
    }
   ],
   "source": [
    "# Visualize unlabeled data with generated labels\n",
    "visualize_predictions(\n",
    "    image_dir=\"dataset/unlabeled_data/images\",\n",
    "    labels_dir=\"dataset/unlabeled_data/labels\",\n",
    "    num_samples=4\n",
    ")"
   ]
  },
  {
   "cell_type": "code",
   "execution_count": null,
   "id": "3464b903-404a-4ece-821f-574d7d3c4c63",
   "metadata": {},
   "outputs": [],
   "source": []
  }
 ],
 "metadata": {
  "kernelspec": {
   "display_name": "Python 3 (ipykernel)",
   "language": "python",
   "name": "python3"
  },
  "language_info": {
   "codemirror_mode": {
    "name": "ipython",
    "version": 3
   },
   "file_extension": ".py",
   "mimetype": "text/x-python",
   "name": "python",
   "nbconvert_exporter": "python",
   "pygments_lexer": "ipython3",
   "version": "3.10.12"
  }
 },
 "nbformat": 4,
 "nbformat_minor": 5
}
