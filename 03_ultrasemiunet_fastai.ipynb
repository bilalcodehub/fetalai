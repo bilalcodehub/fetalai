{
 "cells": [
  {
   "cell_type": "code",
   "execution_count": null,
   "id": "312e89d5-644b-4d8c-98f8-21b21ebea0b3",
   "metadata": {},
   "outputs": [],
   "source": [
    "from fastai.vision.all import *\n",
    "import fastcore.all as fc\n",
    "import torch.optim as optim"
   ]
  },
  {
   "cell_type": "code",
   "execution_count": null,
   "id": "ace9da49-8040-4710-9a3b-7e9537d64ce5",
   "metadata": {},
   "outputs": [],
   "source": [
    "# Define the root directory for the dataset\n",
    "dataroot_dir = Path('dataset')"
   ]
  },
  {
   "cell_type": "code",
   "execution_count": null,
   "id": "f8b61ae4-ce00-42ee-bf24-aea3dba492a9",
   "metadata": {},
   "outputs": [],
   "source": [
    "# Define labeled and unlabeled directories based on dataroot\n",
    "labeled_dataroot_dir = dataroot_dir/'labeled_data'\n",
    "unlabeled_dataroot_dir = dataroot_dir/'unlabeled_data'\n",
    "\n",
    "dataroot_dir.ls(), labeled_dataroot_dir.ls(), unlabeled_dataroot_dir.ls()"
   ]
  },
  {
   "cell_type": "code",
   "execution_count": null,
   "id": "faad8433-1b88-4bb9-9044-bd0bbec2b1fc",
   "metadata": {},
   "outputs": [],
   "source": [
    "# Define class codes for segmentation\n",
    "class_codes = ['background', 'anterior', 'posterior']  # Ensure correct class mappings"
   ]
  },
  {
   "cell_type": "code",
   "execution_count": null,
   "id": "dc4637ba-fab0-4423-a8c2-4c45190e207e",
   "metadata": {},
   "outputs": [],
   "source": [
    "# Image and mask transformations\n",
    "item_tfms = [Resize((256, 256), method='nearest')]  # Resize masks with nearest neighbor\n",
    "batch_tfms = [IntToFloatTensor(), Normalize.from_stats(*imagenet_stats)]"
   ]
  },
  {
   "cell_type": "code",
   "execution_count": null,
   "id": "2eb62778-e68e-42db-af68-4d9eaa7360eb",
   "metadata": {},
   "outputs": [],
   "source": [
    "# Function to get the mask path from the image path\n",
    "def get_y(image_path):\n",
    "    return Path(str(image_path).replace(\"images\", \"labels\"))"
   ]
  },
  {
   "cell_type": "code",
   "execution_count": null,
   "id": "52d1fdfe-c420-4fb6-aced-0f31d01a3137",
   "metadata": {},
   "outputs": [],
   "source": [
    "# Labeled DataBlock (Multi-class Segmentation)\n",
    "labeled_block = DataBlock(\n",
    "    blocks=(ImageBlock, MaskBlock(codes=class_codes)),  # Multi-class segmentation\n",
    "    get_items=get_image_files,\n",
    "    splitter=RandomSplitter(),\n",
    "    get_y=get_y,  # Map image path to corresponding mask\n",
    "    item_tfms=item_tfms,\n",
    "    batch_tfms=batch_tfms\n",
    ")\n",
    "\n",
    "# Create labeled DataLoaders\n",
    "labeled_dls = labeled_block.dataloaders(labeled_dataroot_dir/'images', bs=4, shuffle=True, num_workers=0)\n",
    "\n",
    "labeled_dls.show_batch()"
   ]
  },
  {
   "cell_type": "code",
   "execution_count": null,
   "id": "a58ec849-6b69-4357-8d1c-4145531b70d7",
   "metadata": {},
   "outputs": [],
   "source": [
    "# Unlabeled DataBlock (for inference)\n",
    "unlabeled_block = DataBlock(\n",
    "    blocks=(ImageBlock,),  # Only images, no labels\n",
    "    get_items=get_image_files,\n",
    "    splitter=None,  # No splitting needed\n",
    "    item_tfms=item_tfms,\n",
    "    batch_tfms=batch_tfms\n",
    ")\n",
    "\n",
    "# Create unlabeled DataLoaders\n",
    "unlabeled_dls = unlabeled_block.dataloaders(unlabeled_dataroot_dir/'images', bs=4, shuffle=True)\n",
    "\n",
    "unlabeled_dls.show_batch()"
   ]
  },
  {
   "cell_type": "code",
   "execution_count": null,
   "id": "d985aa36-7159-4403-9d01-50bf6e838973",
   "metadata": {},
   "outputs": [],
   "source": [
    "# ✅ Activation Function\n",
    "class GeneralRelu(nn.Module):\n",
    "    def __init__(self, leak=None, sub=None, maxv=None):\n",
    "        super().__init__()\n",
    "        self.leak, self.sub, self.maxv = leak, sub, maxv\n",
    "\n",
    "    def forward(self, x): \n",
    "        x = F.leaky_relu(x, self.leak) if self.leak is not None else F.relu(x)\n",
    "        if self.sub is not None: x -= self.sub\n",
    "        if self.maxv is not None: x.clamp_max_(self.maxv)\n",
    "        return x\n",
    "\n",
    "act_gr = lambda: GeneralRelu(leak=0.1, sub=0.4)"
   ]
  },
  {
   "cell_type": "code",
   "execution_count": null,
   "id": "1fee24e8-fea5-4cb5-a111-d0ed827ba1fe",
   "metadata": {},
   "outputs": [],
   "source": [
    "# Convolution Block\n",
    "def conv(ni, nf, ks=3, stride=2, act=nn.ReLU, norm=None, bias=None):\n",
    "    if bias is None: bias = not isinstance(norm, (nn.BatchNorm1d, nn.BatchNorm2d, nn.BatchNorm3d))\n",
    "    layers = [nn.Conv2d(ni, nf, stride=stride, kernel_size=ks, padding=ks//2, bias=bias)]\n",
    "    if norm: layers.append(norm(nf))\n",
    "    if act: layers.append(act())\n",
    "    return nn.Sequential(*layers)"
   ]
  },
  {
   "cell_type": "code",
   "execution_count": null,
   "id": "167dace1-e53d-42fc-b695-3ef6abee6f5f",
   "metadata": {},
   "outputs": [],
   "source": [
    "# Residual Block\n",
    "class ResBlock(nn.Module):\n",
    "    def __init__(self, ni, nf, stride=1, ks=3, act=act_gr, norm=None):\n",
    "        super().__init__()\n",
    "        self.convs = nn.Sequential(\n",
    "            conv(ni, nf, stride=1, act=act, norm=norm, ks=ks),\n",
    "            conv(nf, nf, stride=stride, act=None, norm=norm, ks=ks))\n",
    "        self.idconv = nn.Identity() if ni == nf else conv(ni, nf, ks=1, stride=1, act=None)\n",
    "        self.pool = nn.Identity() if stride == 1 else nn.AvgPool2d(2, ceil_mode=True)\n",
    "        self.act = act()\n",
    "\n",
    "    def forward(self, x): \n",
    "        return self.act(self.convs(x) + self.idconv(self.pool(x)))"
   ]
  },
  {
   "cell_type": "code",
   "execution_count": null,
   "id": "9fd1888d-90e8-49df-bfd7-4cadc4dd0da0",
   "metadata": {},
   "outputs": [],
   "source": [
    "# Tiny UNet Model\n",
    "class TinyUnet(nn.Module):\n",
    "    def __init__(self, in_channels=3, out_channels=3, act=act_gr, nfs=(32,64,128,256,512,1024), norm=nn.BatchNorm2d):\n",
    "        super().__init__()\n",
    "        self.start = ResBlock(in_channels, nfs[0], stride=1, act=act, norm=norm)\n",
    "        self.dn = nn.ModuleList([ResBlock(nfs[i], nfs[i+1], act=act, norm=norm, stride=2) for i in range(len(nfs)-1)])\n",
    "        self.up = nn.ModuleList([conv(nfs[i], nfs[i-1], ks=3, stride=1, act=act, norm=norm) for i in range(len(nfs)-1,0,-1)])\n",
    "        self.seg_head = nn.Conv2d(nfs[0], out_channels, kernel_size=1)\n",
    "\n",
    "    def forward(self, x):\n",
    "        layers = [self.start(x)]\n",
    "        for l in self.dn: layers.append(l(layers[-1]))\n",
    "\n",
    "        x = layers[-1]\n",
    "        for i, l in enumerate(self.up, 1):\n",
    "            upsampled_x = F.interpolate(l(x), size=layers[-i-1].shape[2:], mode=\"bilinear\", align_corners=False)\n",
    "            # print(f\"Up Block {i}: upsampled_x shape={upsampled_x.shape}, Skip Connection shape={layers[-i-1].shape}\")\n",
    "            x = upsampled_x + layers[-i-1]  # Ensure matching dimensions\n",
    "\n",
    "        return self.seg_head(x)"
   ]
  },
  {
   "cell_type": "code",
   "execution_count": null,
   "id": "394092a1-5ddf-4f96-a047-1f623a2d6443",
   "metadata": {},
   "outputs": [],
   "source": [
    "# Teacher-Student Model\n",
    "class UltraSemiNet(nn.Module):\n",
    "    def __init__(self, in_channels=3, num_classes=3, alpha=0.99):\n",
    "        super(UltraSemiNet, self).__init__()\n",
    "        self.student_net = TinyUnet(in_channels=in_channels, out_channels=num_classes)\n",
    "        self.teacher_net = TinyUnet(in_channels=in_channels, out_channels=num_classes)\n",
    "        self._update_teacher(0.0)\n",
    "        self.alpha = alpha\n",
    "        self.num_classes = num_classes\n",
    "\n",
    "    def forward(self, x):\n",
    "        return self.student_net(x)\n",
    "\n",
    "    @torch.no_grad()\n",
    "    def _update_teacher(self, alpha=None):\n",
    "        if alpha is None: alpha = self.alpha\n",
    "        for teacher_param, student_param in zip(self.teacher_net.parameters(), self.student_net.parameters()):\n",
    "            teacher_param.data = alpha * teacher_param.data + (1 - alpha) * student_param.data"
   ]
  },
  {
   "cell_type": "code",
   "execution_count": null,
   "id": "1b9d601a-479d-4812-ba1b-ae27c65b6dc8",
   "metadata": {},
   "outputs": [],
   "source": [
    "# Loss Functions\n",
    "def compute_hardness_map(logits):\n",
    "    probs = torch.softmax(logits, dim=1)\n",
    "    return -torch.sum(probs * torch.log(probs + 1e-8), dim=1, keepdim=True)\n",
    "\n",
    "def semi_supervised_loss(student_logits, teacher_logits, labels, mask, temperature):\n",
    "    # print(f\"🔍 semi_supervised_loss: student_logits.shape={student_logits.shape}, labels.shape={labels.shape}\")\n",
    "    return CrossEntropyLossFlat()(student_logits, labels)"
   ]
  },
  {
   "cell_type": "code",
   "execution_count": 6,
   "id": "da01746d-b15f-4923-a30e-ff2205f40c48",
   "metadata": {},
   "outputs": [],
   "source": [
    "# Teacher-Student Training\n",
    "class UltraSemiNetLearner(Learner):\n",
    "    def __init__(self, student_teacher_model, labeled_dls, unlabeled_dls, optimizer, num_epochs=10, temperature=0.07, save_path=\"model.pth\"):\n",
    "        device = torch.device(\"cuda\" if torch.cuda.is_available() else \"cpu\")\n",
    "        self.student_model = student_teacher_model.student_net.to(device)\n",
    "        self.teacher_model = student_teacher_model.teacher_net.to(device)\n",
    "        self.labeled_dls = labeled_dls\n",
    "        self.unlabeled_dls = unlabeled_dls\n",
    "        self.train_dl = self.labeled_dls.train\n",
    "        self.valid_dl = self.labeled_dls.valid\n",
    "        self.unlabeled_dl = self.unlabeled_dls.train\n",
    "        self.optimizer = optimizer\n",
    "        self.num_epochs = num_epochs\n",
    "        self.temperature = temperature\n",
    "        self.save_path = save_path\n",
    "        self.best_loss = float(\"inf\")\n",
    "\n",
    "        # Define `loss_func`\n",
    "        self.loss_func = self.compute_loss\n",
    "\n",
    "        # Initialize Learner correctly\n",
    "        super().__init__(self.student_model, self.labeled_dls, opt_func=lambda: self.optimizer, loss_func=self.loss_func)\n",
    "\n",
    "    def compute_loss(self, student_logits, teacher_logits, labels, mask):\n",
    "        \"\"\" Loss function for UltraSemiNet \"\"\"\n",
    "        # print(f\"\\n🔍 compute_loss: student_logits.shape={student_logits.shape}, labels.shape={labels.shape}\")\n",
    "\n",
    "        # Correct Reshaping for Loss\n",
    "        student_logits = student_logits.permute(0, 2, 3, 1).reshape(-1, student_logits.shape[1])\n",
    "        labels = labels.view(-1)\n",
    "\n",
    "        return semi_supervised_loss(student_logits, teacher_logits, labels, mask, self.temperature)\n",
    "\n",
    "    def train(self):\n",
    "        device = next(self.student_model.parameters()).device\n",
    "\n",
    "        for epoch in range(self.num_epochs):\n",
    "            self.student_model.train()\n",
    "            self.teacher_model.eval()\n",
    "\n",
    "            running_loss = 0.0\n",
    "            steps = 0\n",
    "\n",
    "            pbar = progress_bar(zip(iter(self.train_dl), iter(self.unlabeled_dl)), total=min(len(self.train_dl), len(self.unlabeled_dl)))\n",
    "\n",
    "            for (x_l, y_l), (x_u,) in pbar:\n",
    "                x_l, y_l = x_l.to(device), y_l.to(device)\n",
    "                x_u = x_u.to(device)\n",
    "\n",
    "                # **Forward Pass (Supervised)**\n",
    "                logits_l = self.student_model(x_l)\n",
    "                print()\n",
    "                # Ensure label is in correct shape before loss\n",
    "                y_l = y_l.view(logits_l.shape[0], logits_l.shape[2], logits_l.shape[3])\n",
    "\n",
    "                # Reshape for Loss Function\n",
    "                logits_l = logits_l.permute(0, 2, 3, 1).reshape(-1, logits_l.shape[1])  # (B*H*W, num_classes)\n",
    "                y_l = y_l.view(-1)  # (B*H*W,)\n",
    "\n",
    "                # Compute Supervised Loss\n",
    "                supervised_loss = CrossEntropyLossFlat()(logits_l, y_l)\n",
    "\n",
    "                # **Forward Pass (Unsupervised - Teacher)**\n",
    "                with torch.no_grad():\n",
    "                    logits_u_teacher = self.teacher_model(x_u)\n",
    "\n",
    "                logits_u_student = self.student_model(x_u)\n",
    "                hardness_mask = compute_hardness_map(logits_u_teacher)\n",
    "\n",
    "                # **Total Loss**\n",
    "                total_loss = supervised_loss + self.loss_func(logits_u_student, logits_u_teacher, y_l, hardness_mask)\n",
    "\n",
    "                self.optimizer.zero_grad()\n",
    "                total_loss.backward()\n",
    "                self.optimizer.step()\n",
    "\n",
    "                running_loss += total_loss.item()\n",
    "                steps += 1\n",
    "\n",
    "                # Update Progress Bar\n",
    "                pbar.comment = f\"Loss: {total_loss.item():.4f}\"\n",
    "\n",
    "            epoch_loss = running_loss / steps if steps > 0 else 0.0\n",
    "            print(f\"[Epoch {epoch+1}/{self.num_epochs}] Loss: {epoch_loss:.4f}\")\n",
    "\n",
    "            if epoch_loss < self.best_loss:\n",
    "                self.best_loss = epoch_loss\n",
    "                torch.save(self.student_model.state_dict(), self.save_path)\n",
    "\n",
    "        print(\"Training complete!\")"
   ]
  },
  {
   "cell_type": "code",
   "execution_count": 7,
   "id": "79829f49-fe64-4372-83fe-2da6c035f3c6",
   "metadata": {},
   "outputs": [
    {
     "data": {
      "text/html": [
       "\n",
       "<style>\n",
       "    /* Turns off some styling */\n",
       "    progress {\n",
       "        /* gets rid of default border in Firefox and Opera. */\n",
       "        border: none;\n",
       "        /* Needs to be in here for Safari polyfill so background images work as expected. */\n",
       "        background-size: auto;\n",
       "    }\n",
       "    progress:not([value]), progress:not([value])::-webkit-progress-bar {\n",
       "        background: repeating-linear-gradient(45deg, #7e7e7e, #7e7e7e 10px, #5c5c5c 10px, #5c5c5c 20px);\n",
       "    }\n",
       "    .progress-bar-interrupted, .progress-bar-interrupted::-webkit-progress-bar {\n",
       "        background: #F44336;\n",
       "    }\n",
       "</style>\n"
      ],
      "text/plain": [
       "<IPython.core.display.HTML object>"
      ]
     },
     "metadata": {},
     "output_type": "display_data"
    },
    {
     "data": {
      "text/html": [
       "\n",
       "    <div>\n",
       "      <progress value='10' class='' max='10' style='width:300px; height:20px; vertical-align: middle;'></progress>\n",
       "      100.00% [10/10 00:01&lt;00:00 Loss: 2.3375]\n",
       "    </div>\n",
       "    "
      ],
      "text/plain": [
       "<IPython.core.display.HTML object>"
      ]
     },
     "metadata": {},
     "output_type": "display_data"
    },
    {
     "name": "stdout",
     "output_type": "stream",
     "text": [
      "\n",
      "\n",
      "\n",
      "\n",
      "\n",
      "\n",
      "\n",
      "\n",
      "\n",
      "\n",
      "[Epoch 1/10] Loss: 2.5354\n"
     ]
    },
    {
     "data": {
      "text/html": [
       "\n",
       "<style>\n",
       "    /* Turns off some styling */\n",
       "    progress {\n",
       "        /* gets rid of default border in Firefox and Opera. */\n",
       "        border: none;\n",
       "        /* Needs to be in here for Safari polyfill so background images work as expected. */\n",
       "        background-size: auto;\n",
       "    }\n",
       "    progress:not([value]), progress:not([value])::-webkit-progress-bar {\n",
       "        background: repeating-linear-gradient(45deg, #7e7e7e, #7e7e7e 10px, #5c5c5c 10px, #5c5c5c 20px);\n",
       "    }\n",
       "    .progress-bar-interrupted, .progress-bar-interrupted::-webkit-progress-bar {\n",
       "        background: #F44336;\n",
       "    }\n",
       "</style>\n"
      ],
      "text/plain": [
       "<IPython.core.display.HTML object>"
      ]
     },
     "metadata": {},
     "output_type": "display_data"
    },
    {
     "data": {
      "text/html": [
       "\n",
       "    <div>\n",
       "      <progress value='10' class='' max='10' style='width:300px; height:20px; vertical-align: middle;'></progress>\n",
       "      100.00% [10/10 00:01&lt;00:00 Loss: 1.8667]\n",
       "    </div>\n",
       "    "
      ],
      "text/plain": [
       "<IPython.core.display.HTML object>"
      ]
     },
     "metadata": {},
     "output_type": "display_data"
    },
    {
     "name": "stdout",
     "output_type": "stream",
     "text": [
      "\n",
      "\n",
      "\n",
      "\n",
      "\n",
      "\n",
      "\n",
      "\n",
      "\n",
      "\n",
      "[Epoch 2/10] Loss: 2.0634\n"
     ]
    },
    {
     "data": {
      "text/html": [
       "\n",
       "<style>\n",
       "    /* Turns off some styling */\n",
       "    progress {\n",
       "        /* gets rid of default border in Firefox and Opera. */\n",
       "        border: none;\n",
       "        /* Needs to be in here for Safari polyfill so background images work as expected. */\n",
       "        background-size: auto;\n",
       "    }\n",
       "    progress:not([value]), progress:not([value])::-webkit-progress-bar {\n",
       "        background: repeating-linear-gradient(45deg, #7e7e7e, #7e7e7e 10px, #5c5c5c 10px, #5c5c5c 20px);\n",
       "    }\n",
       "    .progress-bar-interrupted, .progress-bar-interrupted::-webkit-progress-bar {\n",
       "        background: #F44336;\n",
       "    }\n",
       "</style>\n"
      ],
      "text/plain": [
       "<IPython.core.display.HTML object>"
      ]
     },
     "metadata": {},
     "output_type": "display_data"
    },
    {
     "data": {
      "text/html": [
       "\n",
       "    <div>\n",
       "      <progress value='10' class='' max='10' style='width:300px; height:20px; vertical-align: middle;'></progress>\n",
       "      100.00% [10/10 00:01&lt;00:00 Loss: 1.6816]\n",
       "    </div>\n",
       "    "
      ],
      "text/plain": [
       "<IPython.core.display.HTML object>"
      ]
     },
     "metadata": {},
     "output_type": "display_data"
    },
    {
     "name": "stdout",
     "output_type": "stream",
     "text": [
      "\n",
      "\n",
      "\n",
      "\n",
      "\n",
      "\n",
      "\n",
      "\n",
      "\n",
      "\n",
      "[Epoch 3/10] Loss: 1.7988\n"
     ]
    },
    {
     "data": {
      "text/html": [
       "\n",
       "<style>\n",
       "    /* Turns off some styling */\n",
       "    progress {\n",
       "        /* gets rid of default border in Firefox and Opera. */\n",
       "        border: none;\n",
       "        /* Needs to be in here for Safari polyfill so background images work as expected. */\n",
       "        background-size: auto;\n",
       "    }\n",
       "    progress:not([value]), progress:not([value])::-webkit-progress-bar {\n",
       "        background: repeating-linear-gradient(45deg, #7e7e7e, #7e7e7e 10px, #5c5c5c 10px, #5c5c5c 20px);\n",
       "    }\n",
       "    .progress-bar-interrupted, .progress-bar-interrupted::-webkit-progress-bar {\n",
       "        background: #F44336;\n",
       "    }\n",
       "</style>\n"
      ],
      "text/plain": [
       "<IPython.core.display.HTML object>"
      ]
     },
     "metadata": {},
     "output_type": "display_data"
    },
    {
     "data": {
      "text/html": [
       "\n",
       "    <div>\n",
       "      <progress value='10' class='' max='10' style='width:300px; height:20px; vertical-align: middle;'></progress>\n",
       "      100.00% [10/10 00:01&lt;00:00 Loss: 1.7434]\n",
       "    </div>\n",
       "    "
      ],
      "text/plain": [
       "<IPython.core.display.HTML object>"
      ]
     },
     "metadata": {},
     "output_type": "display_data"
    },
    {
     "name": "stdout",
     "output_type": "stream",
     "text": [
      "\n",
      "\n",
      "\n",
      "\n",
      "\n",
      "\n",
      "\n",
      "\n",
      "\n",
      "\n",
      "[Epoch 4/10] Loss: 1.7573\n"
     ]
    },
    {
     "data": {
      "text/html": [
       "\n",
       "<style>\n",
       "    /* Turns off some styling */\n",
       "    progress {\n",
       "        /* gets rid of default border in Firefox and Opera. */\n",
       "        border: none;\n",
       "        /* Needs to be in here for Safari polyfill so background images work as expected. */\n",
       "        background-size: auto;\n",
       "    }\n",
       "    progress:not([value]), progress:not([value])::-webkit-progress-bar {\n",
       "        background: repeating-linear-gradient(45deg, #7e7e7e, #7e7e7e 10px, #5c5c5c 10px, #5c5c5c 20px);\n",
       "    }\n",
       "    .progress-bar-interrupted, .progress-bar-interrupted::-webkit-progress-bar {\n",
       "        background: #F44336;\n",
       "    }\n",
       "</style>\n"
      ],
      "text/plain": [
       "<IPython.core.display.HTML object>"
      ]
     },
     "metadata": {},
     "output_type": "display_data"
    },
    {
     "data": {
      "text/html": [
       "\n",
       "    <div>\n",
       "      <progress value='10' class='' max='10' style='width:300px; height:20px; vertical-align: middle;'></progress>\n",
       "      100.00% [10/10 00:01&lt;00:00 Loss: 2.0167]\n",
       "    </div>\n",
       "    "
      ],
      "text/plain": [
       "<IPython.core.display.HTML object>"
      ]
     },
     "metadata": {},
     "output_type": "display_data"
    },
    {
     "name": "stdout",
     "output_type": "stream",
     "text": [
      "\n",
      "\n",
      "\n",
      "\n",
      "\n",
      "\n",
      "\n",
      "\n",
      "\n",
      "\n",
      "[Epoch 5/10] Loss: 1.6120\n"
     ]
    },
    {
     "data": {
      "text/html": [
       "\n",
       "<style>\n",
       "    /* Turns off some styling */\n",
       "    progress {\n",
       "        /* gets rid of default border in Firefox and Opera. */\n",
       "        border: none;\n",
       "        /* Needs to be in here for Safari polyfill so background images work as expected. */\n",
       "        background-size: auto;\n",
       "    }\n",
       "    progress:not([value]), progress:not([value])::-webkit-progress-bar {\n",
       "        background: repeating-linear-gradient(45deg, #7e7e7e, #7e7e7e 10px, #5c5c5c 10px, #5c5c5c 20px);\n",
       "    }\n",
       "    .progress-bar-interrupted, .progress-bar-interrupted::-webkit-progress-bar {\n",
       "        background: #F44336;\n",
       "    }\n",
       "</style>\n"
      ],
      "text/plain": [
       "<IPython.core.display.HTML object>"
      ]
     },
     "metadata": {},
     "output_type": "display_data"
    },
    {
     "data": {
      "text/html": [
       "\n",
       "    <div>\n",
       "      <progress value='10' class='' max='10' style='width:300px; height:20px; vertical-align: middle;'></progress>\n",
       "      100.00% [10/10 00:02&lt;00:00 Loss: 1.5889]\n",
       "    </div>\n",
       "    "
      ],
      "text/plain": [
       "<IPython.core.display.HTML object>"
      ]
     },
     "metadata": {},
     "output_type": "display_data"
    },
    {
     "name": "stdout",
     "output_type": "stream",
     "text": [
      "\n",
      "\n",
      "\n",
      "\n",
      "\n",
      "\n",
      "\n",
      "\n",
      "\n",
      "\n",
      "[Epoch 6/10] Loss: 1.5787\n"
     ]
    },
    {
     "data": {
      "text/html": [
       "\n",
       "<style>\n",
       "    /* Turns off some styling */\n",
       "    progress {\n",
       "        /* gets rid of default border in Firefox and Opera. */\n",
       "        border: none;\n",
       "        /* Needs to be in here for Safari polyfill so background images work as expected. */\n",
       "        background-size: auto;\n",
       "    }\n",
       "    progress:not([value]), progress:not([value])::-webkit-progress-bar {\n",
       "        background: repeating-linear-gradient(45deg, #7e7e7e, #7e7e7e 10px, #5c5c5c 10px, #5c5c5c 20px);\n",
       "    }\n",
       "    .progress-bar-interrupted, .progress-bar-interrupted::-webkit-progress-bar {\n",
       "        background: #F44336;\n",
       "    }\n",
       "</style>\n"
      ],
      "text/plain": [
       "<IPython.core.display.HTML object>"
      ]
     },
     "metadata": {},
     "output_type": "display_data"
    },
    {
     "data": {
      "text/html": [
       "\n",
       "    <div>\n",
       "      <progress value='10' class='' max='10' style='width:300px; height:20px; vertical-align: middle;'></progress>\n",
       "      100.00% [10/10 00:01&lt;00:00 Loss: 1.5049]\n",
       "    </div>\n",
       "    "
      ],
      "text/plain": [
       "<IPython.core.display.HTML object>"
      ]
     },
     "metadata": {},
     "output_type": "display_data"
    },
    {
     "name": "stdout",
     "output_type": "stream",
     "text": [
      "\n",
      "\n",
      "\n",
      "\n",
      "\n",
      "\n",
      "\n",
      "\n",
      "\n",
      "\n",
      "[Epoch 7/10] Loss: 1.5527\n"
     ]
    },
    {
     "data": {
      "text/html": [
       "\n",
       "<style>\n",
       "    /* Turns off some styling */\n",
       "    progress {\n",
       "        /* gets rid of default border in Firefox and Opera. */\n",
       "        border: none;\n",
       "        /* Needs to be in here for Safari polyfill so background images work as expected. */\n",
       "        background-size: auto;\n",
       "    }\n",
       "    progress:not([value]), progress:not([value])::-webkit-progress-bar {\n",
       "        background: repeating-linear-gradient(45deg, #7e7e7e, #7e7e7e 10px, #5c5c5c 10px, #5c5c5c 20px);\n",
       "    }\n",
       "    .progress-bar-interrupted, .progress-bar-interrupted::-webkit-progress-bar {\n",
       "        background: #F44336;\n",
       "    }\n",
       "</style>\n"
      ],
      "text/plain": [
       "<IPython.core.display.HTML object>"
      ]
     },
     "metadata": {},
     "output_type": "display_data"
    },
    {
     "data": {
      "text/html": [
       "\n",
       "    <div>\n",
       "      <progress value='10' class='' max='10' style='width:300px; height:20px; vertical-align: middle;'></progress>\n",
       "      100.00% [10/10 00:01&lt;00:00 Loss: 1.5922]\n",
       "    </div>\n",
       "    "
      ],
      "text/plain": [
       "<IPython.core.display.HTML object>"
      ]
     },
     "metadata": {},
     "output_type": "display_data"
    },
    {
     "name": "stdout",
     "output_type": "stream",
     "text": [
      "\n",
      "\n",
      "\n",
      "\n",
      "\n",
      "\n",
      "\n",
      "\n",
      "\n",
      "\n",
      "[Epoch 8/10] Loss: 1.5103\n"
     ]
    },
    {
     "data": {
      "text/html": [
       "\n",
       "<style>\n",
       "    /* Turns off some styling */\n",
       "    progress {\n",
       "        /* gets rid of default border in Firefox and Opera. */\n",
       "        border: none;\n",
       "        /* Needs to be in here for Safari polyfill so background images work as expected. */\n",
       "        background-size: auto;\n",
       "    }\n",
       "    progress:not([value]), progress:not([value])::-webkit-progress-bar {\n",
       "        background: repeating-linear-gradient(45deg, #7e7e7e, #7e7e7e 10px, #5c5c5c 10px, #5c5c5c 20px);\n",
       "    }\n",
       "    .progress-bar-interrupted, .progress-bar-interrupted::-webkit-progress-bar {\n",
       "        background: #F44336;\n",
       "    }\n",
       "</style>\n"
      ],
      "text/plain": [
       "<IPython.core.display.HTML object>"
      ]
     },
     "metadata": {},
     "output_type": "display_data"
    },
    {
     "data": {
      "text/html": [
       "\n",
       "    <div>\n",
       "      <progress value='10' class='' max='10' style='width:300px; height:20px; vertical-align: middle;'></progress>\n",
       "      100.00% [10/10 00:01&lt;00:00 Loss: 1.5907]\n",
       "    </div>\n",
       "    "
      ],
      "text/plain": [
       "<IPython.core.display.HTML object>"
      ]
     },
     "metadata": {},
     "output_type": "display_data"
    },
    {
     "name": "stdout",
     "output_type": "stream",
     "text": [
      "\n",
      "\n",
      "\n",
      "\n",
      "\n",
      "\n",
      "\n",
      "\n",
      "\n",
      "\n",
      "[Epoch 9/10] Loss: 1.4579\n"
     ]
    },
    {
     "data": {
      "text/html": [
       "\n",
       "<style>\n",
       "    /* Turns off some styling */\n",
       "    progress {\n",
       "        /* gets rid of default border in Firefox and Opera. */\n",
       "        border: none;\n",
       "        /* Needs to be in here for Safari polyfill so background images work as expected. */\n",
       "        background-size: auto;\n",
       "    }\n",
       "    progress:not([value]), progress:not([value])::-webkit-progress-bar {\n",
       "        background: repeating-linear-gradient(45deg, #7e7e7e, #7e7e7e 10px, #5c5c5c 10px, #5c5c5c 20px);\n",
       "    }\n",
       "    .progress-bar-interrupted, .progress-bar-interrupted::-webkit-progress-bar {\n",
       "        background: #F44336;\n",
       "    }\n",
       "</style>\n"
      ],
      "text/plain": [
       "<IPython.core.display.HTML object>"
      ]
     },
     "metadata": {},
     "output_type": "display_data"
    },
    {
     "data": {
      "text/html": [
       "\n",
       "    <div>\n",
       "      <progress value='10' class='' max='10' style='width:300px; height:20px; vertical-align: middle;'></progress>\n",
       "      100.00% [10/10 00:01&lt;00:00 Loss: 1.2682]\n",
       "    </div>\n",
       "    "
      ],
      "text/plain": [
       "<IPython.core.display.HTML object>"
      ]
     },
     "metadata": {},
     "output_type": "display_data"
    },
    {
     "name": "stdout",
     "output_type": "stream",
     "text": [
      "\n",
      "\n",
      "\n",
      "\n",
      "\n",
      "\n",
      "\n",
      "\n",
      "\n",
      "\n",
      "[Epoch 10/10] Loss: 1.3604\n",
      "Training complete!\n"
     ]
    }
   ],
   "source": [
    "# Train the Model\n",
    "model = UltraSemiNet(in_channels=3, num_classes=3)\n",
    "optimizer = optim.Adam(model.parameters(), lr=1e-4)\n",
    "learner = UltraSemiNetLearner(model, labeled_dls, unlabeled_dls, optimizer, num_epochs=10)\n",
    "learner.train()"
   ]
  },
  {
   "cell_type": "code",
   "execution_count": null,
   "id": "17078809-12dc-47c6-ba0c-1ed4cb08b5ef",
   "metadata": {},
   "outputs": [],
   "source": []
  }
 ],
 "metadata": {
  "kernelspec": {
   "display_name": "Python 3 (ipykernel)",
   "language": "python",
   "name": "python3"
  },
  "language_info": {
   "codemirror_mode": {
    "name": "ipython",
    "version": 3
   },
   "file_extension": ".py",
   "mimetype": "text/x-python",
   "name": "python",
   "nbconvert_exporter": "python",
   "pygments_lexer": "ipython3",
   "version": "3.10.12"
  }
 },
 "nbformat": 4,
 "nbformat_minor": 5
}
