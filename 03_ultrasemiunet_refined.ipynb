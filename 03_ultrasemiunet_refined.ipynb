{
 "cells": [
  {
   "cell_type": "code",
   "execution_count": 9,
   "id": "17078809-12dc-47c6-ba0c-1ed4cb08b5ef",
   "metadata": {},
   "outputs": [
    {
     "data": {
      "application/vnd.jupyter.widget-view+json": {
       "model_id": "a3fd124909b94289961064c728f95b76",
       "version_major": 2,
       "version_minor": 0
      },
      "text/plain": [
       "Output()"
      ]
     },
     "metadata": {},
     "output_type": "display_data"
    },
    {
     "data": {
      "text/html": [
       "<pre style=\"white-space:pre;overflow-x:auto;line-height:normal;font-family:Menlo,'DejaVu Sans Mono',consolas,'Courier New',monospace\">\n",
       "Step <span style=\"color: #008080; text-decoration-color: #008080; font-weight: bold\">50</span>:\n",
       "</pre>\n"
      ],
      "text/plain": [
       "\n",
       "Step \u001b[1;36m50\u001b[0m:\n"
      ]
     },
     "metadata": {},
     "output_type": "display_data"
    },
    {
     "data": {
      "text/html": [
       "<pre style=\"white-space:pre;overflow-x:auto;line-height:normal;font-family:Menlo,'DejaVu Sans Mono',consolas,'Courier New',monospace\">SAT Loss: <span style=\"color: #008080; text-decoration-color: #008080; font-weight: bold\">-9.1007</span>\n",
       "</pre>\n"
      ],
      "text/plain": [
       "SAT Loss: \u001b[1;36m-9.1007\u001b[0m\n"
      ]
     },
     "metadata": {},
     "output_type": "display_data"
    },
    {
     "data": {
      "text/html": [
       "<pre style=\"white-space:pre;overflow-x:auto;line-height:normal;font-family:Menlo,'DejaVu Sans Mono',consolas,'Courier New',monospace\">Features - Student: <span style=\"color: #808000; text-decoration-color: #808000\">μ</span>=<span style=\"color: #008080; text-decoration-color: #008080; font-weight: bold\">0.0129</span> ±<span style=\"color: #008080; text-decoration-color: #008080; font-weight: bold\">0.7323</span>\n",
       "</pre>\n"
      ],
      "text/plain": [
       "Features - Student: \u001b[33mμ\u001b[0m=\u001b[1;36m0\u001b[0m\u001b[1;36m.0129\u001b[0m ±\u001b[1;36m0.7323\u001b[0m\n"
      ]
     },
     "metadata": {},
     "output_type": "display_data"
    },
    {
     "data": {
      "text/html": [
       "<pre style=\"white-space:pre;overflow-x:auto;line-height:normal;font-family:Menlo,'DejaVu Sans Mono',consolas,'Courier New',monospace\">Features - Teacher: <span style=\"color: #808000; text-decoration-color: #808000\">μ</span>=<span style=\"color: #008080; text-decoration-color: #008080; font-weight: bold\">0.0091</span> ±<span style=\"color: #008080; text-decoration-color: #008080; font-weight: bold\">0.8310</span>\n",
       "</pre>\n"
      ],
      "text/plain": [
       "Features - Teacher: \u001b[33mμ\u001b[0m=\u001b[1;36m0\u001b[0m\u001b[1;36m.0091\u001b[0m ±\u001b[1;36m0.8310\u001b[0m\n"
      ]
     },
     "metadata": {},
     "output_type": "display_data"
    },
    {
     "data": {
      "text/html": [
       "<pre style=\"white-space:pre;overflow-x:auto;line-height:normal;font-family:Menlo,'DejaVu Sans Mono',consolas,'Courier New',monospace\">\n",
       "Step <span style=\"color: #008080; text-decoration-color: #008080; font-weight: bold\">100</span>:\n",
       "</pre>\n"
      ],
      "text/plain": [
       "\n",
       "Step \u001b[1;36m100\u001b[0m:\n"
      ]
     },
     "metadata": {},
     "output_type": "display_data"
    },
    {
     "data": {
      "text/html": [
       "<pre style=\"white-space:pre;overflow-x:auto;line-height:normal;font-family:Menlo,'DejaVu Sans Mono',consolas,'Courier New',monospace\">SAT Loss: <span style=\"color: #008080; text-decoration-color: #008080; font-weight: bold\">-9.1907</span>\n",
       "</pre>\n"
      ],
      "text/plain": [
       "SAT Loss: \u001b[1;36m-9.1907\u001b[0m\n"
      ]
     },
     "metadata": {},
     "output_type": "display_data"
    },
    {
     "data": {
      "text/html": [
       "<pre style=\"white-space:pre;overflow-x:auto;line-height:normal;font-family:Menlo,'DejaVu Sans Mono',consolas,'Courier New',monospace\">Features - Student: <span style=\"color: #808000; text-decoration-color: #808000\">μ</span>=<span style=\"color: #008080; text-decoration-color: #008080; font-weight: bold\">0.0033</span> ±<span style=\"color: #008080; text-decoration-color: #008080; font-weight: bold\">0.7064</span>\n",
       "</pre>\n"
      ],
      "text/plain": [
       "Features - Student: \u001b[33mμ\u001b[0m=\u001b[1;36m0\u001b[0m\u001b[1;36m.0033\u001b[0m ±\u001b[1;36m0.7064\u001b[0m\n"
      ]
     },
     "metadata": {},
     "output_type": "display_data"
    },
    {
     "data": {
      "text/html": [
       "<pre style=\"white-space:pre;overflow-x:auto;line-height:normal;font-family:Menlo,'DejaVu Sans Mono',consolas,'Courier New',monospace\">Features - Teacher: <span style=\"color: #808000; text-decoration-color: #808000\">μ</span>=<span style=\"color: #008080; text-decoration-color: #008080; font-weight: bold\">0.0078</span> ±<span style=\"color: #008080; text-decoration-color: #008080; font-weight: bold\">0.7118</span>\n",
       "</pre>\n"
      ],
      "text/plain": [
       "Features - Teacher: \u001b[33mμ\u001b[0m=\u001b[1;36m0\u001b[0m\u001b[1;36m.0078\u001b[0m ±\u001b[1;36m0.7118\u001b[0m\n"
      ]
     },
     "metadata": {},
     "output_type": "display_data"
    },
    {
     "data": {
      "text/html": [
       "<pre style=\"white-space:pre;overflow-x:auto;line-height:normal;font-family:Menlo,'DejaVu Sans Mono',consolas,'Courier New',monospace\">\n",
       "Step <span style=\"color: #008080; text-decoration-color: #008080; font-weight: bold\">150</span>:\n",
       "</pre>\n"
      ],
      "text/plain": [
       "\n",
       "Step \u001b[1;36m150\u001b[0m:\n"
      ]
     },
     "metadata": {},
     "output_type": "display_data"
    },
    {
     "data": {
      "text/html": [
       "<pre style=\"white-space:pre;overflow-x:auto;line-height:normal;font-family:Menlo,'DejaVu Sans Mono',consolas,'Courier New',monospace\">SAT Loss: <span style=\"color: #008080; text-decoration-color: #008080; font-weight: bold\">-9.0951</span>\n",
       "</pre>\n"
      ],
      "text/plain": [
       "SAT Loss: \u001b[1;36m-9.0951\u001b[0m\n"
      ]
     },
     "metadata": {},
     "output_type": "display_data"
    },
    {
     "data": {
      "text/html": [
       "<pre style=\"white-space:pre;overflow-x:auto;line-height:normal;font-family:Menlo,'DejaVu Sans Mono',consolas,'Courier New',monospace\">Features - Student: <span style=\"color: #808000; text-decoration-color: #808000\">μ</span>=<span style=\"color: #008080; text-decoration-color: #008080; font-weight: bold\">0.0089</span> ±<span style=\"color: #008080; text-decoration-color: #008080; font-weight: bold\">0.9358</span>\n",
       "</pre>\n"
      ],
      "text/plain": [
       "Features - Student: \u001b[33mμ\u001b[0m=\u001b[1;36m0\u001b[0m\u001b[1;36m.0089\u001b[0m ±\u001b[1;36m0.9358\u001b[0m\n"
      ]
     },
     "metadata": {},
     "output_type": "display_data"
    },
    {
     "data": {
      "text/html": [
       "<pre style=\"white-space:pre;overflow-x:auto;line-height:normal;font-family:Menlo,'DejaVu Sans Mono',consolas,'Courier New',monospace\">Features - Teacher: <span style=\"color: #808000; text-decoration-color: #808000\">μ</span>=<span style=\"color: #008080; text-decoration-color: #008080; font-weight: bold\">0.0037</span> ±<span style=\"color: #008080; text-decoration-color: #008080; font-weight: bold\">0.7678</span>\n",
       "</pre>\n"
      ],
      "text/plain": [
       "Features - Teacher: \u001b[33mμ\u001b[0m=\u001b[1;36m0\u001b[0m\u001b[1;36m.0037\u001b[0m ±\u001b[1;36m0.7678\u001b[0m\n"
      ]
     },
     "metadata": {},
     "output_type": "display_data"
    },
    {
     "data": {
      "text/html": [
       "<pre style=\"white-space:pre;overflow-x:auto;line-height:normal;font-family:Menlo,'DejaVu Sans Mono',consolas,'Courier New',monospace\">\n",
       "Step <span style=\"color: #008080; text-decoration-color: #008080; font-weight: bold\">200</span>:\n",
       "</pre>\n"
      ],
      "text/plain": [
       "\n",
       "Step \u001b[1;36m200\u001b[0m:\n"
      ]
     },
     "metadata": {},
     "output_type": "display_data"
    },
    {
     "data": {
      "text/html": [
       "<pre style=\"white-space:pre;overflow-x:auto;line-height:normal;font-family:Menlo,'DejaVu Sans Mono',consolas,'Courier New',monospace\">SAT Loss: <span style=\"color: #008080; text-decoration-color: #008080; font-weight: bold\">-9.4532</span>\n",
       "</pre>\n"
      ],
      "text/plain": [
       "SAT Loss: \u001b[1;36m-9.4532\u001b[0m\n"
      ]
     },
     "metadata": {},
     "output_type": "display_data"
    },
    {
     "data": {
      "text/html": [
       "<pre style=\"white-space:pre;overflow-x:auto;line-height:normal;font-family:Menlo,'DejaVu Sans Mono',consolas,'Courier New',monospace\">Features - Student: <span style=\"color: #808000; text-decoration-color: #808000\">μ</span>=<span style=\"color: #008080; text-decoration-color: #008080; font-weight: bold\">0.0070</span> ±<span style=\"color: #008080; text-decoration-color: #008080; font-weight: bold\">1.1918</span>\n",
       "</pre>\n"
      ],
      "text/plain": [
       "Features - Student: \u001b[33mμ\u001b[0m=\u001b[1;36m0\u001b[0m\u001b[1;36m.0070\u001b[0m ±\u001b[1;36m1.1918\u001b[0m\n"
      ]
     },
     "metadata": {},
     "output_type": "display_data"
    },
    {
     "data": {
      "text/html": [
       "<pre style=\"white-space:pre;overflow-x:auto;line-height:normal;font-family:Menlo,'DejaVu Sans Mono',consolas,'Courier New',monospace\">Features - Teacher: <span style=\"color: #808000; text-decoration-color: #808000\">μ</span>=<span style=\"color: #008080; text-decoration-color: #008080; font-weight: bold\">0.0073</span> ±<span style=\"color: #008080; text-decoration-color: #008080; font-weight: bold\">1.1341</span>\n",
       "</pre>\n"
      ],
      "text/plain": [
       "Features - Teacher: \u001b[33mμ\u001b[0m=\u001b[1;36m0\u001b[0m\u001b[1;36m.0073\u001b[0m ±\u001b[1;36m1.1341\u001b[0m\n"
      ]
     },
     "metadata": {},
     "output_type": "display_data"
    },
    {
     "data": {
      "text/html": [
       "<pre style=\"white-space:pre;overflow-x:auto;line-height:normal;font-family:Menlo,'DejaVu Sans Mono',consolas,'Courier New',monospace\">\n",
       "Step <span style=\"color: #008080; text-decoration-color: #008080; font-weight: bold\">250</span>:\n",
       "</pre>\n"
      ],
      "text/plain": [
       "\n",
       "Step \u001b[1;36m250\u001b[0m:\n"
      ]
     },
     "metadata": {},
     "output_type": "display_data"
    },
    {
     "data": {
      "text/html": [
       "<pre style=\"white-space:pre;overflow-x:auto;line-height:normal;font-family:Menlo,'DejaVu Sans Mono',consolas,'Courier New',monospace\">SAT Loss: <span style=\"color: #008080; text-decoration-color: #008080; font-weight: bold\">-9.8052</span>\n",
       "</pre>\n"
      ],
      "text/plain": [
       "SAT Loss: \u001b[1;36m-9.8052\u001b[0m\n"
      ]
     },
     "metadata": {},
     "output_type": "display_data"
    },
    {
     "data": {
      "text/html": [
       "<pre style=\"white-space:pre;overflow-x:auto;line-height:normal;font-family:Menlo,'DejaVu Sans Mono',consolas,'Courier New',monospace\">Features - Student: <span style=\"color: #808000; text-decoration-color: #808000\">μ</span>=<span style=\"color: #008080; text-decoration-color: #008080; font-weight: bold\">0.0088</span> ±<span style=\"color: #008080; text-decoration-color: #008080; font-weight: bold\">1.2195</span>\n",
       "</pre>\n"
      ],
      "text/plain": [
       "Features - Student: \u001b[33mμ\u001b[0m=\u001b[1;36m0\u001b[0m\u001b[1;36m.0088\u001b[0m ±\u001b[1;36m1.2195\u001b[0m\n"
      ]
     },
     "metadata": {},
     "output_type": "display_data"
    },
    {
     "data": {
      "text/html": [
       "<pre style=\"white-space:pre;overflow-x:auto;line-height:normal;font-family:Menlo,'DejaVu Sans Mono',consolas,'Courier New',monospace\">Features - Teacher: <span style=\"color: #808000; text-decoration-color: #808000\">μ</span>=<span style=\"color: #008080; text-decoration-color: #008080; font-weight: bold\">0.0089</span> ±<span style=\"color: #008080; text-decoration-color: #008080; font-weight: bold\">1.2314</span>\n",
       "</pre>\n"
      ],
      "text/plain": [
       "Features - Teacher: \u001b[33mμ\u001b[0m=\u001b[1;36m0\u001b[0m\u001b[1;36m.0089\u001b[0m ±\u001b[1;36m1.2314\u001b[0m\n"
      ]
     },
     "metadata": {},
     "output_type": "display_data"
    },
    {
     "data": {
      "text/html": [
       "<pre style=\"white-space:pre;overflow-x:auto;line-height:normal;font-family:Menlo,'DejaVu Sans Mono',consolas,'Courier New',monospace\">SAT Loss: <span style=\"color: #008080; text-decoration-color: #008080; font-weight: bold\">-9.7439</span>\n",
       "</pre>\n"
      ],
      "text/plain": [
       "SAT Loss: \u001b[1;36m-9.7439\u001b[0m\n"
      ]
     },
     "metadata": {},
     "output_type": "display_data"
    },
    {
     "data": {
      "text/html": [
       "<pre style=\"white-space:pre;overflow-x:auto;line-height:normal;font-family:Menlo,'DejaVu Sans Mono',consolas,'Courier New',monospace\">Features - Student: <span style=\"color: #808000; text-decoration-color: #808000\">μ</span>=<span style=\"color: #008080; text-decoration-color: #008080; font-weight: bold\">0.0168</span> ±<span style=\"color: #008080; text-decoration-color: #008080; font-weight: bold\">1.1946</span>\n",
       "</pre>\n"
      ],
      "text/plain": [
       "Features - Student: \u001b[33mμ\u001b[0m=\u001b[1;36m0\u001b[0m\u001b[1;36m.0168\u001b[0m ±\u001b[1;36m1.1946\u001b[0m\n"
      ]
     },
     "metadata": {},
     "output_type": "display_data"
    },
    {
     "data": {
      "text/html": [
       "<pre style=\"white-space:pre;overflow-x:auto;line-height:normal;font-family:Menlo,'DejaVu Sans Mono',consolas,'Courier New',monospace\">Features - Teacher: <span style=\"color: #808000; text-decoration-color: #808000\">μ</span>=<span style=\"color: #008080; text-decoration-color: #008080; font-weight: bold\">0.0089</span> ±<span style=\"color: #008080; text-decoration-color: #008080; font-weight: bold\">1.3002</span>\n",
       "</pre>\n"
      ],
      "text/plain": [
       "Features - Teacher: \u001b[33mμ\u001b[0m=\u001b[1;36m0\u001b[0m\u001b[1;36m.0089\u001b[0m ±\u001b[1;36m1.3002\u001b[0m\n"
      ]
     },
     "metadata": {},
     "output_type": "display_data"
    },
    {
     "data": {
      "text/html": [
       "<pre style=\"white-space:pre;overflow-x:auto;line-height:normal;font-family:Menlo,'DejaVu Sans Mono',consolas,'Courier New',monospace\">\n",
       "Step <span style=\"color: #008080; text-decoration-color: #008080; font-weight: bold\">350</span>:\n",
       "</pre>\n"
      ],
      "text/plain": [
       "\n",
       "Step \u001b[1;36m350\u001b[0m:\n"
      ]
     },
     "metadata": {},
     "output_type": "display_data"
    },
    {
     "data": {
      "text/html": [
       "<pre style=\"white-space:pre;overflow-x:auto;line-height:normal;font-family:Menlo,'DejaVu Sans Mono',consolas,'Courier New',monospace\">SAT Loss: <span style=\"color: #008080; text-decoration-color: #008080; font-weight: bold\">-9.6618</span>\n",
       "</pre>\n"
      ],
      "text/plain": [
       "SAT Loss: \u001b[1;36m-9.6618\u001b[0m\n"
      ]
     },
     "metadata": {},
     "output_type": "display_data"
    },
    {
     "data": {
      "text/html": [
       "<pre style=\"white-space:pre;overflow-x:auto;line-height:normal;font-family:Menlo,'DejaVu Sans Mono',consolas,'Courier New',monospace\">Features - Student: <span style=\"color: #808000; text-decoration-color: #808000\">μ</span>=<span style=\"color: #008080; text-decoration-color: #008080; font-weight: bold\">0.0067</span> ±<span style=\"color: #008080; text-decoration-color: #008080; font-weight: bold\">1.0789</span>\n",
       "</pre>\n"
      ],
      "text/plain": [
       "Features - Student: \u001b[33mμ\u001b[0m=\u001b[1;36m0\u001b[0m\u001b[1;36m.0067\u001b[0m ±\u001b[1;36m1.0789\u001b[0m\n"
      ]
     },
     "metadata": {},
     "output_type": "display_data"
    },
    {
     "data": {
      "text/html": [
       "<pre style=\"white-space:pre;overflow-x:auto;line-height:normal;font-family:Menlo,'DejaVu Sans Mono',consolas,'Courier New',monospace\">Features - Teacher: <span style=\"color: #808000; text-decoration-color: #808000\">μ</span>=<span style=\"color: #008080; text-decoration-color: #008080; font-weight: bold\">0.0011</span> ±<span style=\"color: #008080; text-decoration-color: #008080; font-weight: bold\">1.2243</span>\n",
       "</pre>\n"
      ],
      "text/plain": [
       "Features - Teacher: \u001b[33mμ\u001b[0m=\u001b[1;36m0\u001b[0m\u001b[1;36m.0011\u001b[0m ±\u001b[1;36m1.2243\u001b[0m\n"
      ]
     },
     "metadata": {},
     "output_type": "display_data"
    },
    {
     "data": {
      "text/html": [
       "<pre style=\"white-space:pre;overflow-x:auto;line-height:normal;font-family:Menlo,'DejaVu Sans Mono',consolas,'Courier New',monospace\">\n",
       "Step <span style=\"color: #008080; text-decoration-color: #008080; font-weight: bold\">400</span>:\n",
       "</pre>\n"
      ],
      "text/plain": [
       "\n",
       "Step \u001b[1;36m400\u001b[0m:\n"
      ]
     },
     "metadata": {},
     "output_type": "display_data"
    },
    {
     "data": {
      "text/html": [
       "<pre style=\"white-space:pre;overflow-x:auto;line-height:normal;font-family:Menlo,'DejaVu Sans Mono',consolas,'Courier New',monospace\">SAT Loss: <span style=\"color: #008080; text-decoration-color: #008080; font-weight: bold\">-9.6543</span>\n",
       "</pre>\n"
      ],
      "text/plain": [
       "SAT Loss: \u001b[1;36m-9.6543\u001b[0m\n"
      ]
     },
     "metadata": {},
     "output_type": "display_data"
    },
    {
     "data": {
      "text/html": [
       "<pre style=\"white-space:pre;overflow-x:auto;line-height:normal;font-family:Menlo,'DejaVu Sans Mono',consolas,'Courier New',monospace\">Features - Student: <span style=\"color: #808000; text-decoration-color: #808000\">μ</span>=<span style=\"color: #008080; text-decoration-color: #008080; font-weight: bold\">0.0138</span> ±<span style=\"color: #008080; text-decoration-color: #008080; font-weight: bold\">1.3453</span>\n",
       "</pre>\n"
      ],
      "text/plain": [
       "Features - Student: \u001b[33mμ\u001b[0m=\u001b[1;36m0\u001b[0m\u001b[1;36m.0138\u001b[0m ±\u001b[1;36m1.3453\u001b[0m\n"
      ]
     },
     "metadata": {},
     "output_type": "display_data"
    },
    {
     "data": {
      "text/html": [
       "<pre style=\"white-space:pre;overflow-x:auto;line-height:normal;font-family:Menlo,'DejaVu Sans Mono',consolas,'Courier New',monospace\">Features - Teacher: <span style=\"color: #808000; text-decoration-color: #808000\">μ</span>=<span style=\"color: #008080; text-decoration-color: #008080; font-weight: bold\">0.0023</span> ±<span style=\"color: #008080; text-decoration-color: #008080; font-weight: bold\">1.4400</span>\n",
       "</pre>\n"
      ],
      "text/plain": [
       "Features - Teacher: \u001b[33mμ\u001b[0m=\u001b[1;36m0\u001b[0m\u001b[1;36m.0023\u001b[0m ±\u001b[1;36m1.4400\u001b[0m\n"
      ]
     },
     "metadata": {},
     "output_type": "display_data"
    },
    {
     "data": {
      "text/html": [
       "<pre style=\"white-space:pre;overflow-x:auto;line-height:normal;font-family:Menlo,'DejaVu Sans Mono',consolas,'Courier New',monospace\">\n",
       "Step <span style=\"color: #008080; text-decoration-color: #008080; font-weight: bold\">450</span>:\n",
       "</pre>\n"
      ],
      "text/plain": [
       "\n",
       "Step \u001b[1;36m450\u001b[0m:\n"
      ]
     },
     "metadata": {},
     "output_type": "display_data"
    },
    {
     "data": {
      "text/html": [
       "<pre style=\"white-space:pre;overflow-x:auto;line-height:normal;font-family:Menlo,'DejaVu Sans Mono',consolas,'Courier New',monospace\">SAT Loss: <span style=\"color: #008080; text-decoration-color: #008080; font-weight: bold\">-9.7109</span>\n",
       "</pre>\n"
      ],
      "text/plain": [
       "SAT Loss: \u001b[1;36m-9.7109\u001b[0m\n"
      ]
     },
     "metadata": {},
     "output_type": "display_data"
    },
    {
     "data": {
      "text/html": [
       "<pre style=\"white-space:pre;overflow-x:auto;line-height:normal;font-family:Menlo,'DejaVu Sans Mono',consolas,'Courier New',monospace\">Features - Student: <span style=\"color: #808000; text-decoration-color: #808000\">μ</span>=<span style=\"color: #008080; text-decoration-color: #008080; font-weight: bold\">0.0077</span> ±<span style=\"color: #008080; text-decoration-color: #008080; font-weight: bold\">1.5007</span>\n",
       "</pre>\n"
      ],
      "text/plain": [
       "Features - Student: \u001b[33mμ\u001b[0m=\u001b[1;36m0\u001b[0m\u001b[1;36m.0077\u001b[0m ±\u001b[1;36m1.5007\u001b[0m\n"
      ]
     },
     "metadata": {},
     "output_type": "display_data"
    },
    {
     "data": {
      "text/html": [
       "<pre style=\"white-space:pre;overflow-x:auto;line-height:normal;font-family:Menlo,'DejaVu Sans Mono',consolas,'Courier New',monospace\">Features - Teacher: <span style=\"color: #808000; text-decoration-color: #808000\">μ</span>=<span style=\"color: #008080; text-decoration-color: #008080; font-weight: bold\">0.0096</span> ±<span style=\"color: #008080; text-decoration-color: #008080; font-weight: bold\">1.3773</span>\n",
       "</pre>\n"
      ],
      "text/plain": [
       "Features - Teacher: \u001b[33mμ\u001b[0m=\u001b[1;36m0\u001b[0m\u001b[1;36m.0096\u001b[0m ±\u001b[1;36m1.3773\u001b[0m\n"
      ]
     },
     "metadata": {},
     "output_type": "display_data"
    },
    {
     "data": {
      "text/html": [
       "<pre style=\"white-space:pre;overflow-x:auto;line-height:normal;font-family:Menlo,'DejaVu Sans Mono',consolas,'Courier New',monospace\">\n",
       "Step <span style=\"color: #008080; text-decoration-color: #008080; font-weight: bold\">500</span>:\n",
       "</pre>\n"
      ],
      "text/plain": [
       "\n",
       "Step \u001b[1;36m500\u001b[0m:\n"
      ]
     },
     "metadata": {},
     "output_type": "display_data"
    },
    {
     "data": {
      "text/html": [
       "<pre style=\"white-space:pre;overflow-x:auto;line-height:normal;font-family:Menlo,'DejaVu Sans Mono',consolas,'Courier New',monospace\">SAT Loss: <span style=\"color: #008080; text-decoration-color: #008080; font-weight: bold\">-9.8486</span>\n",
       "</pre>\n"
      ],
      "text/plain": [
       "SAT Loss: \u001b[1;36m-9.8486\u001b[0m\n"
      ]
     },
     "metadata": {},
     "output_type": "display_data"
    },
    {
     "data": {
      "text/html": [
       "<pre style=\"white-space:pre;overflow-x:auto;line-height:normal;font-family:Menlo,'DejaVu Sans Mono',consolas,'Courier New',monospace\">Features - Student: <span style=\"color: #808000; text-decoration-color: #808000\">μ</span>=<span style=\"color: #008080; text-decoration-color: #008080; font-weight: bold\">0.0060</span> ±<span style=\"color: #008080; text-decoration-color: #008080; font-weight: bold\">1.4284</span>\n",
       "</pre>\n"
      ],
      "text/plain": [
       "Features - Student: \u001b[33mμ\u001b[0m=\u001b[1;36m0\u001b[0m\u001b[1;36m.0060\u001b[0m ±\u001b[1;36m1.4284\u001b[0m\n"
      ]
     },
     "metadata": {},
     "output_type": "display_data"
    },
    {
     "data": {
      "text/html": [
       "<pre style=\"white-space:pre;overflow-x:auto;line-height:normal;font-family:Menlo,'DejaVu Sans Mono',consolas,'Courier New',monospace\">Features - Teacher: <span style=\"color: #808000; text-decoration-color: #808000\">μ</span>=<span style=\"color: #008080; text-decoration-color: #008080; font-weight: bold\">0.0086</span> ±<span style=\"color: #008080; text-decoration-color: #008080; font-weight: bold\">1.7690</span>\n",
       "</pre>\n"
      ],
      "text/plain": [
       "Features - Teacher: \u001b[33mμ\u001b[0m=\u001b[1;36m0\u001b[0m\u001b[1;36m.0086\u001b[0m ±\u001b[1;36m1.7690\u001b[0m\n"
      ]
     },
     "metadata": {},
     "output_type": "display_data"
    },
    {
     "data": {
      "text/html": [
       "<pre style=\"white-space:pre;overflow-x:auto;line-height:normal;font-family:Menlo,'DejaVu Sans Mono',consolas,'Courier New',monospace\">\n",
       "Step <span style=\"color: #008080; text-decoration-color: #008080; font-weight: bold\">550</span>:\n",
       "</pre>\n"
      ],
      "text/plain": [
       "\n",
       "Step \u001b[1;36m550\u001b[0m:\n"
      ]
     },
     "metadata": {},
     "output_type": "display_data"
    },
    {
     "data": {
      "text/html": [
       "<pre style=\"white-space:pre;overflow-x:auto;line-height:normal;font-family:Menlo,'DejaVu Sans Mono',consolas,'Courier New',monospace\">SAT Loss: <span style=\"color: #008080; text-decoration-color: #008080; font-weight: bold\">-9.8147</span>\n",
       "</pre>\n"
      ],
      "text/plain": [
       "SAT Loss: \u001b[1;36m-9.8147\u001b[0m\n"
      ]
     },
     "metadata": {},
     "output_type": "display_data"
    },
    {
     "data": {
      "text/html": [
       "<pre style=\"white-space:pre;overflow-x:auto;line-height:normal;font-family:Menlo,'DejaVu Sans Mono',consolas,'Courier New',monospace\">Features - Student: <span style=\"color: #808000; text-decoration-color: #808000\">μ</span>=<span style=\"color: #008080; text-decoration-color: #008080; font-weight: bold\">0.0058</span> ±<span style=\"color: #008080; text-decoration-color: #008080; font-weight: bold\">1.4603</span>\n",
       "</pre>\n"
      ],
      "text/plain": [
       "Features - Student: \u001b[33mμ\u001b[0m=\u001b[1;36m0\u001b[0m\u001b[1;36m.0058\u001b[0m ±\u001b[1;36m1.4603\u001b[0m\n"
      ]
     },
     "metadata": {},
     "output_type": "display_data"
    },
    {
     "data": {
      "text/html": [
       "<pre style=\"white-space:pre;overflow-x:auto;line-height:normal;font-family:Menlo,'DejaVu Sans Mono',consolas,'Courier New',monospace\">Features - Teacher: <span style=\"color: #808000; text-decoration-color: #808000\">μ</span>=<span style=\"color: #008080; text-decoration-color: #008080; font-weight: bold\">-0.0004</span> ±<span style=\"color: #008080; text-decoration-color: #008080; font-weight: bold\">1.3810</span>\n",
       "</pre>\n"
      ],
      "text/plain": [
       "Features - Teacher: \u001b[33mμ\u001b[0m=\u001b[1;36m-0.0004\u001b[0m ±\u001b[1;36m1.3810\u001b[0m\n"
      ]
     },
     "metadata": {},
     "output_type": "display_data"
    },
    {
     "data": {
      "text/html": [
       "<pre style=\"white-space:pre;overflow-x:auto;line-height:normal;font-family:Menlo,'DejaVu Sans Mono',consolas,'Courier New',monospace\">\n",
       "Step <span style=\"color: #008080; text-decoration-color: #008080; font-weight: bold\">600</span>:\n",
       "</pre>\n"
      ],
      "text/plain": [
       "\n",
       "Step \u001b[1;36m600\u001b[0m:\n"
      ]
     },
     "metadata": {},
     "output_type": "display_data"
    },
    {
     "data": {
      "text/html": [
       "<pre style=\"white-space:pre;overflow-x:auto;line-height:normal;font-family:Menlo,'DejaVu Sans Mono',consolas,'Courier New',monospace\">SAT Loss: <span style=\"color: #008080; text-decoration-color: #008080; font-weight: bold\">-9.8797</span>\n",
       "</pre>\n"
      ],
      "text/plain": [
       "SAT Loss: \u001b[1;36m-9.8797\u001b[0m\n"
      ]
     },
     "metadata": {},
     "output_type": "display_data"
    },
    {
     "data": {
      "text/html": [
       "<pre style=\"white-space:pre;overflow-x:auto;line-height:normal;font-family:Menlo,'DejaVu Sans Mono',consolas,'Courier New',monospace\">Features - Student: <span style=\"color: #808000; text-decoration-color: #808000\">μ</span>=<span style=\"color: #008080; text-decoration-color: #008080; font-weight: bold\">0.0014</span> ±<span style=\"color: #008080; text-decoration-color: #008080; font-weight: bold\">1.5879</span>\n",
       "</pre>\n"
      ],
      "text/plain": [
       "Features - Student: \u001b[33mμ\u001b[0m=\u001b[1;36m0\u001b[0m\u001b[1;36m.0014\u001b[0m ±\u001b[1;36m1.5879\u001b[0m\n"
      ]
     },
     "metadata": {},
     "output_type": "display_data"
    },
    {
     "data": {
      "text/html": [
       "<pre style=\"white-space:pre;overflow-x:auto;line-height:normal;font-family:Menlo,'DejaVu Sans Mono',consolas,'Courier New',monospace\">Features - Teacher: <span style=\"color: #808000; text-decoration-color: #808000\">μ</span>=<span style=\"color: #008080; text-decoration-color: #008080; font-weight: bold\">0.0086</span> ±<span style=\"color: #008080; text-decoration-color: #008080; font-weight: bold\">1.8371</span>\n",
       "</pre>\n"
      ],
      "text/plain": [
       "Features - Teacher: \u001b[33mμ\u001b[0m=\u001b[1;36m0\u001b[0m\u001b[1;36m.0086\u001b[0m ±\u001b[1;36m1.8371\u001b[0m\n"
      ]
     },
     "metadata": {},
     "output_type": "display_data"
    },
    {
     "data": {
      "text/html": [
       "<pre style=\"white-space:pre;overflow-x:auto;line-height:normal;font-family:Menlo,'DejaVu Sans Mono',consolas,'Courier New',monospace\">\n",
       "Step <span style=\"color: #008080; text-decoration-color: #008080; font-weight: bold\">650</span>:\n",
       "</pre>\n"
      ],
      "text/plain": [
       "\n",
       "Step \u001b[1;36m650\u001b[0m:\n"
      ]
     },
     "metadata": {},
     "output_type": "display_data"
    },
    {
     "data": {
      "text/html": [
       "<pre style=\"white-space:pre;overflow-x:auto;line-height:normal;font-family:Menlo,'DejaVu Sans Mono',consolas,'Courier New',monospace\">SAT Loss: <span style=\"color: #008080; text-decoration-color: #008080; font-weight: bold\">-9.6425</span>\n",
       "</pre>\n"
      ],
      "text/plain": [
       "SAT Loss: \u001b[1;36m-9.6425\u001b[0m\n"
      ]
     },
     "metadata": {},
     "output_type": "display_data"
    },
    {
     "data": {
      "text/html": [
       "<pre style=\"white-space:pre;overflow-x:auto;line-height:normal;font-family:Menlo,'DejaVu Sans Mono',consolas,'Courier New',monospace\">Features - Student: <span style=\"color: #808000; text-decoration-color: #808000\">μ</span>=<span style=\"color: #008080; text-decoration-color: #008080; font-weight: bold\">0.0042</span> ±<span style=\"color: #008080; text-decoration-color: #008080; font-weight: bold\">1.2861</span>\n",
       "</pre>\n"
      ],
      "text/plain": [
       "Features - Student: \u001b[33mμ\u001b[0m=\u001b[1;36m0\u001b[0m\u001b[1;36m.0042\u001b[0m ±\u001b[1;36m1.2861\u001b[0m\n"
      ]
     },
     "metadata": {},
     "output_type": "display_data"
    },
    {
     "data": {
      "text/html": [
       "<pre style=\"white-space:pre;overflow-x:auto;line-height:normal;font-family:Menlo,'DejaVu Sans Mono',consolas,'Courier New',monospace\">Features - Teacher: <span style=\"color: #808000; text-decoration-color: #808000\">μ</span>=<span style=\"color: #008080; text-decoration-color: #008080; font-weight: bold\">0.0120</span> ±<span style=\"color: #008080; text-decoration-color: #008080; font-weight: bold\">1.2072</span>\n",
       "</pre>\n"
      ],
      "text/plain": [
       "Features - Teacher: \u001b[33mμ\u001b[0m=\u001b[1;36m0\u001b[0m\u001b[1;36m.0120\u001b[0m ±\u001b[1;36m1.2072\u001b[0m\n"
      ]
     },
     "metadata": {},
     "output_type": "display_data"
    },
    {
     "data": {
      "text/html": [
       "<pre style=\"white-space:pre;overflow-x:auto;line-height:normal;font-family:Menlo,'DejaVu Sans Mono',consolas,'Courier New',monospace\">\n",
       "Step <span style=\"color: #008080; text-decoration-color: #008080; font-weight: bold\">700</span>:\n",
       "</pre>\n"
      ],
      "text/plain": [
       "\n",
       "Step \u001b[1;36m700\u001b[0m:\n"
      ]
     },
     "metadata": {},
     "output_type": "display_data"
    },
    {
     "data": {
      "text/html": [
       "<pre style=\"white-space:pre;overflow-x:auto;line-height:normal;font-family:Menlo,'DejaVu Sans Mono',consolas,'Courier New',monospace\">SAT Loss: <span style=\"color: #008080; text-decoration-color: #008080; font-weight: bold\">-9.6576</span>\n",
       "</pre>\n"
      ],
      "text/plain": [
       "SAT Loss: \u001b[1;36m-9.6576\u001b[0m\n"
      ]
     },
     "metadata": {},
     "output_type": "display_data"
    },
    {
     "data": {
      "text/html": [
       "<pre style=\"white-space:pre;overflow-x:auto;line-height:normal;font-family:Menlo,'DejaVu Sans Mono',consolas,'Courier New',monospace\">Features - Student: <span style=\"color: #808000; text-decoration-color: #808000\">μ</span>=<span style=\"color: #008080; text-decoration-color: #008080; font-weight: bold\">0.0119</span> ±<span style=\"color: #008080; text-decoration-color: #008080; font-weight: bold\">1.3001</span>\n",
       "</pre>\n"
      ],
      "text/plain": [
       "Features - Student: \u001b[33mμ\u001b[0m=\u001b[1;36m0\u001b[0m\u001b[1;36m.0119\u001b[0m ±\u001b[1;36m1.3001\u001b[0m\n"
      ]
     },
     "metadata": {},
     "output_type": "display_data"
    },
    {
     "data": {
      "text/html": [
       "<pre style=\"white-space:pre;overflow-x:auto;line-height:normal;font-family:Menlo,'DejaVu Sans Mono',consolas,'Courier New',monospace\">Features - Teacher: <span style=\"color: #808000; text-decoration-color: #808000\">μ</span>=<span style=\"color: #008080; text-decoration-color: #008080; font-weight: bold\">0.0051</span> ±<span style=\"color: #008080; text-decoration-color: #008080; font-weight: bold\">1.7070</span>\n",
       "</pre>\n"
      ],
      "text/plain": [
       "Features - Teacher: \u001b[33mμ\u001b[0m=\u001b[1;36m0\u001b[0m\u001b[1;36m.0051\u001b[0m ±\u001b[1;36m1.7070\u001b[0m\n"
      ]
     },
     "metadata": {},
     "output_type": "display_data"
    },
    {
     "data": {
      "text/html": [
       "<pre style=\"white-space:pre;overflow-x:auto;line-height:normal;font-family:Menlo,'DejaVu Sans Mono',consolas,'Courier New',monospace\">\n",
       "Step <span style=\"color: #008080; text-decoration-color: #008080; font-weight: bold\">750</span>:\n",
       "</pre>\n"
      ],
      "text/plain": [
       "\n",
       "Step \u001b[1;36m750\u001b[0m:\n"
      ]
     },
     "metadata": {},
     "output_type": "display_data"
    },
    {
     "data": {
      "text/html": [
       "<pre style=\"white-space:pre;overflow-x:auto;line-height:normal;font-family:Menlo,'DejaVu Sans Mono',consolas,'Courier New',monospace\">SAT Loss: <span style=\"color: #008080; text-decoration-color: #008080; font-weight: bold\">-9.8693</span>\n",
       "</pre>\n"
      ],
      "text/plain": [
       "SAT Loss: \u001b[1;36m-9.8693\u001b[0m\n"
      ]
     },
     "metadata": {},
     "output_type": "display_data"
    },
    {
     "data": {
      "text/html": [
       "<pre style=\"white-space:pre;overflow-x:auto;line-height:normal;font-family:Menlo,'DejaVu Sans Mono',consolas,'Courier New',monospace\">Features - Student: <span style=\"color: #808000; text-decoration-color: #808000\">μ</span>=<span style=\"color: #008080; text-decoration-color: #008080; font-weight: bold\">0.0071</span> ±<span style=\"color: #008080; text-decoration-color: #008080; font-weight: bold\">1.6268</span>\n",
       "</pre>\n"
      ],
      "text/plain": [
       "Features - Student: \u001b[33mμ\u001b[0m=\u001b[1;36m0\u001b[0m\u001b[1;36m.0071\u001b[0m ±\u001b[1;36m1.6268\u001b[0m\n"
      ]
     },
     "metadata": {},
     "output_type": "display_data"
    },
    {
     "data": {
      "text/html": [
       "<pre style=\"white-space:pre;overflow-x:auto;line-height:normal;font-family:Menlo,'DejaVu Sans Mono',consolas,'Courier New',monospace\">Features - Teacher: <span style=\"color: #808000; text-decoration-color: #808000\">μ</span>=<span style=\"color: #008080; text-decoration-color: #008080; font-weight: bold\">0.0086</span> ±<span style=\"color: #008080; text-decoration-color: #008080; font-weight: bold\">1.8901</span>\n",
       "</pre>\n"
      ],
      "text/plain": [
       "Features - Teacher: \u001b[33mμ\u001b[0m=\u001b[1;36m0\u001b[0m\u001b[1;36m.0086\u001b[0m ±\u001b[1;36m1.8901\u001b[0m\n"
      ]
     },
     "metadata": {},
     "output_type": "display_data"
    },
    {
     "data": {
      "text/html": [
       "<pre style=\"white-space:pre;overflow-x:auto;line-height:normal;font-family:Menlo,'DejaVu Sans Mono',consolas,'Courier New',monospace\">\n",
       "Step <span style=\"color: #008080; text-decoration-color: #008080; font-weight: bold\">800</span>:\n",
       "</pre>\n"
      ],
      "text/plain": [
       "\n",
       "Step \u001b[1;36m800\u001b[0m:\n"
      ]
     },
     "metadata": {},
     "output_type": "display_data"
    },
    {
     "data": {
      "text/html": [
       "<pre style=\"white-space:pre;overflow-x:auto;line-height:normal;font-family:Menlo,'DejaVu Sans Mono',consolas,'Courier New',monospace\">SAT Loss: <span style=\"color: #008080; text-decoration-color: #008080; font-weight: bold\">-9.8703</span>\n",
       "</pre>\n"
      ],
      "text/plain": [
       "SAT Loss: \u001b[1;36m-9.8703\u001b[0m\n"
      ]
     },
     "metadata": {},
     "output_type": "display_data"
    },
    {
     "data": {
      "text/html": [
       "<pre style=\"white-space:pre;overflow-x:auto;line-height:normal;font-family:Menlo,'DejaVu Sans Mono',consolas,'Courier New',monospace\">Features - Student: <span style=\"color: #808000; text-decoration-color: #808000\">μ</span>=<span style=\"color: #008080; text-decoration-color: #008080; font-weight: bold\">0.0033</span> ±<span style=\"color: #008080; text-decoration-color: #008080; font-weight: bold\">1.6598</span>\n",
       "</pre>\n"
      ],
      "text/plain": [
       "Features - Student: \u001b[33mμ\u001b[0m=\u001b[1;36m0\u001b[0m\u001b[1;36m.0033\u001b[0m ±\u001b[1;36m1.6598\u001b[0m\n"
      ]
     },
     "metadata": {},
     "output_type": "display_data"
    },
    {
     "data": {
      "text/html": [
       "<pre style=\"white-space:pre;overflow-x:auto;line-height:normal;font-family:Menlo,'DejaVu Sans Mono',consolas,'Courier New',monospace\">Features - Teacher: <span style=\"color: #808000; text-decoration-color: #808000\">μ</span>=<span style=\"color: #008080; text-decoration-color: #008080; font-weight: bold\">0.0039</span> ±<span style=\"color: #008080; text-decoration-color: #008080; font-weight: bold\">1.6963</span>\n",
       "</pre>\n"
      ],
      "text/plain": [
       "Features - Teacher: \u001b[33mμ\u001b[0m=\u001b[1;36m0\u001b[0m\u001b[1;36m.0039\u001b[0m ±\u001b[1;36m1.6963\u001b[0m\n"
      ]
     },
     "metadata": {},
     "output_type": "display_data"
    },
    {
     "data": {
      "text/html": [
       "<pre style=\"white-space:pre;overflow-x:auto;line-height:normal;font-family:Menlo,'DejaVu Sans Mono',consolas,'Courier New',monospace\">\n",
       "Step <span style=\"color: #008080; text-decoration-color: #008080; font-weight: bold\">850</span>:\n",
       "</pre>\n"
      ],
      "text/plain": [
       "\n",
       "Step \u001b[1;36m850\u001b[0m:\n"
      ]
     },
     "metadata": {},
     "output_type": "display_data"
    },
    {
     "data": {
      "text/html": [
       "<pre style=\"white-space:pre;overflow-x:auto;line-height:normal;font-family:Menlo,'DejaVu Sans Mono',consolas,'Courier New',monospace\">SAT Loss: <span style=\"color: #008080; text-decoration-color: #008080; font-weight: bold\">-9.8651</span>\n",
       "</pre>\n"
      ],
      "text/plain": [
       "SAT Loss: \u001b[1;36m-9.8651\u001b[0m\n"
      ]
     },
     "metadata": {},
     "output_type": "display_data"
    },
    {
     "data": {
      "text/html": [
       "<pre style=\"white-space:pre;overflow-x:auto;line-height:normal;font-family:Menlo,'DejaVu Sans Mono',consolas,'Courier New',monospace\">Features - Student: <span style=\"color: #808000; text-decoration-color: #808000\">μ</span>=<span style=\"color: #008080; text-decoration-color: #008080; font-weight: bold\">0.0066</span> ±<span style=\"color: #008080; text-decoration-color: #008080; font-weight: bold\">1.5823</span>\n",
       "</pre>\n"
      ],
      "text/plain": [
       "Features - Student: \u001b[33mμ\u001b[0m=\u001b[1;36m0\u001b[0m\u001b[1;36m.0066\u001b[0m ±\u001b[1;36m1.5823\u001b[0m\n"
      ]
     },
     "metadata": {},
     "output_type": "display_data"
    },
    {
     "data": {
      "text/html": [
       "<pre style=\"white-space:pre;overflow-x:auto;line-height:normal;font-family:Menlo,'DejaVu Sans Mono',consolas,'Courier New',monospace\">Features - Teacher: <span style=\"color: #808000; text-decoration-color: #808000\">μ</span>=<span style=\"color: #008080; text-decoration-color: #008080; font-weight: bold\">0.0086</span> ±<span style=\"color: #008080; text-decoration-color: #008080; font-weight: bold\">1.9776</span>\n",
       "</pre>\n"
      ],
      "text/plain": [
       "Features - Teacher: \u001b[33mμ\u001b[0m=\u001b[1;36m0\u001b[0m\u001b[1;36m.0086\u001b[0m ±\u001b[1;36m1.9776\u001b[0m\n"
      ]
     },
     "metadata": {},
     "output_type": "display_data"
    },
    {
     "data": {
      "text/html": [
       "<pre style=\"white-space:pre;overflow-x:auto;line-height:normal;font-family:Menlo,'DejaVu Sans Mono',consolas,'Courier New',monospace\">\n",
       "Step <span style=\"color: #008080; text-decoration-color: #008080; font-weight: bold\">900</span>:\n",
       "</pre>\n"
      ],
      "text/plain": [
       "\n",
       "Step \u001b[1;36m900\u001b[0m:\n"
      ]
     },
     "metadata": {},
     "output_type": "display_data"
    },
    {
     "data": {
      "text/html": [
       "<pre style=\"white-space:pre;overflow-x:auto;line-height:normal;font-family:Menlo,'DejaVu Sans Mono',consolas,'Courier New',monospace\">SAT Loss: <span style=\"color: #008080; text-decoration-color: #008080; font-weight: bold\">-9.6862</span>\n",
       "</pre>\n"
      ],
      "text/plain": [
       "SAT Loss: \u001b[1;36m-9.6862\u001b[0m\n"
      ]
     },
     "metadata": {},
     "output_type": "display_data"
    },
    {
     "data": {
      "text/html": [
       "<pre style=\"white-space:pre;overflow-x:auto;line-height:normal;font-family:Menlo,'DejaVu Sans Mono',consolas,'Courier New',monospace\">Features - Student: <span style=\"color: #808000; text-decoration-color: #808000\">μ</span>=<span style=\"color: #008080; text-decoration-color: #008080; font-weight: bold\">0.0037</span> ±<span style=\"color: #008080; text-decoration-color: #008080; font-weight: bold\">1.5752</span>\n",
       "</pre>\n"
      ],
      "text/plain": [
       "Features - Student: \u001b[33mμ\u001b[0m=\u001b[1;36m0\u001b[0m\u001b[1;36m.0037\u001b[0m ±\u001b[1;36m1.5752\u001b[0m\n"
      ]
     },
     "metadata": {},
     "output_type": "display_data"
    },
    {
     "data": {
      "text/html": [
       "<pre style=\"white-space:pre;overflow-x:auto;line-height:normal;font-family:Menlo,'DejaVu Sans Mono',consolas,'Courier New',monospace\">Features - Teacher: <span style=\"color: #808000; text-decoration-color: #808000\">μ</span>=<span style=\"color: #008080; text-decoration-color: #008080; font-weight: bold\">0.0005</span> ±<span style=\"color: #008080; text-decoration-color: #008080; font-weight: bold\">1.3721</span>\n",
       "</pre>\n"
      ],
      "text/plain": [
       "Features - Teacher: \u001b[33mμ\u001b[0m=\u001b[1;36m0\u001b[0m\u001b[1;36m.0005\u001b[0m ±\u001b[1;36m1.3721\u001b[0m\n"
      ]
     },
     "metadata": {},
     "output_type": "display_data"
    },
    {
     "data": {
      "text/html": [
       "<pre style=\"white-space:pre;overflow-x:auto;line-height:normal;font-family:Menlo,'DejaVu Sans Mono',consolas,'Courier New',monospace\">\n",
       "Step <span style=\"color: #008080; text-decoration-color: #008080; font-weight: bold\">950</span>:\n",
       "</pre>\n"
      ],
      "text/plain": [
       "\n",
       "Step \u001b[1;36m950\u001b[0m:\n"
      ]
     },
     "metadata": {},
     "output_type": "display_data"
    },
    {
     "data": {
      "text/html": [
       "<pre style=\"white-space:pre;overflow-x:auto;line-height:normal;font-family:Menlo,'DejaVu Sans Mono',consolas,'Courier New',monospace\">SAT Loss: <span style=\"color: #008080; text-decoration-color: #008080; font-weight: bold\">-9.6075</span>\n",
       "</pre>\n"
      ],
      "text/plain": [
       "SAT Loss: \u001b[1;36m-9.6075\u001b[0m\n"
      ]
     },
     "metadata": {},
     "output_type": "display_data"
    },
    {
     "data": {
      "text/html": [
       "<pre style=\"white-space:pre;overflow-x:auto;line-height:normal;font-family:Menlo,'DejaVu Sans Mono',consolas,'Courier New',monospace\">Features - Student: <span style=\"color: #808000; text-decoration-color: #808000\">μ</span>=<span style=\"color: #008080; text-decoration-color: #008080; font-weight: bold\">0.0052</span> ±<span style=\"color: #008080; text-decoration-color: #008080; font-weight: bold\">1.4622</span>\n",
       "</pre>\n"
      ],
      "text/plain": [
       "Features - Student: \u001b[33mμ\u001b[0m=\u001b[1;36m0\u001b[0m\u001b[1;36m.0052\u001b[0m ±\u001b[1;36m1.4622\u001b[0m\n"
      ]
     },
     "metadata": {},
     "output_type": "display_data"
    },
    {
     "data": {
      "text/html": [
       "<pre style=\"white-space:pre;overflow-x:auto;line-height:normal;font-family:Menlo,'DejaVu Sans Mono',consolas,'Courier New',monospace\">Features - Teacher: <span style=\"color: #808000; text-decoration-color: #808000\">μ</span>=<span style=\"color: #008080; text-decoration-color: #008080; font-weight: bold\">0.0076</span> ±<span style=\"color: #008080; text-decoration-color: #008080; font-weight: bold\">1.4243</span>\n",
       "</pre>\n"
      ],
      "text/plain": [
       "Features - Teacher: \u001b[33mμ\u001b[0m=\u001b[1;36m0\u001b[0m\u001b[1;36m.0076\u001b[0m ±\u001b[1;36m1.4243\u001b[0m\n"
      ]
     },
     "metadata": {},
     "output_type": "display_data"
    },
    {
     "data": {
      "text/html": [
       "<pre style=\"white-space:pre;overflow-x:auto;line-height:normal;font-family:Menlo,'DejaVu Sans Mono',consolas,'Courier New',monospace\">\n",
       "Step <span style=\"color: #008080; text-decoration-color: #008080; font-weight: bold\">1000</span>:\n",
       "</pre>\n"
      ],
      "text/plain": [
       "\n",
       "Step \u001b[1;36m1000\u001b[0m:\n"
      ]
     },
     "metadata": {},
     "output_type": "display_data"
    },
    {
     "data": {
      "text/html": [
       "<pre style=\"white-space:pre;overflow-x:auto;line-height:normal;font-family:Menlo,'DejaVu Sans Mono',consolas,'Courier New',monospace\">SAT Loss: <span style=\"color: #008080; text-decoration-color: #008080; font-weight: bold\">-9.8592</span>\n",
       "</pre>\n"
      ],
      "text/plain": [
       "SAT Loss: \u001b[1;36m-9.8592\u001b[0m\n"
      ]
     },
     "metadata": {},
     "output_type": "display_data"
    },
    {
     "data": {
      "text/html": [
       "<pre style=\"white-space:pre;overflow-x:auto;line-height:normal;font-family:Menlo,'DejaVu Sans Mono',consolas,'Courier New',monospace\">Features - Student: <span style=\"color: #808000; text-decoration-color: #808000\">μ</span>=<span style=\"color: #008080; text-decoration-color: #008080; font-weight: bold\">0.0048</span> ±<span style=\"color: #008080; text-decoration-color: #008080; font-weight: bold\">1.7237</span>\n",
       "</pre>\n"
      ],
      "text/plain": [
       "Features - Student: \u001b[33mμ\u001b[0m=\u001b[1;36m0\u001b[0m\u001b[1;36m.0048\u001b[0m ±\u001b[1;36m1.7237\u001b[0m\n"
      ]
     },
     "metadata": {},
     "output_type": "display_data"
    },
    {
     "data": {
      "text/html": [
       "<pre style=\"white-space:pre;overflow-x:auto;line-height:normal;font-family:Menlo,'DejaVu Sans Mono',consolas,'Courier New',monospace\">Features - Teacher: <span style=\"color: #808000; text-decoration-color: #808000\">μ</span>=<span style=\"color: #008080; text-decoration-color: #008080; font-weight: bold\">0.0098</span> ±<span style=\"color: #008080; text-decoration-color: #008080; font-weight: bold\">1.6543</span>\n",
       "</pre>\n"
      ],
      "text/plain": [
       "Features - Teacher: \u001b[33mμ\u001b[0m=\u001b[1;36m0\u001b[0m\u001b[1;36m.0098\u001b[0m ±\u001b[1;36m1.6543\u001b[0m\n"
      ]
     },
     "metadata": {},
     "output_type": "display_data"
    },
    {
     "data": {
      "text/html": [
       "<pre style=\"white-space:pre;overflow-x:auto;line-height:normal;font-family:Menlo,'DejaVu Sans Mono',consolas,'Courier New',monospace\">\n",
       "Step <span style=\"color: #008080; text-decoration-color: #008080; font-weight: bold\">1050</span>:\n",
       "</pre>\n"
      ],
      "text/plain": [
       "\n",
       "Step \u001b[1;36m1050\u001b[0m:\n"
      ]
     },
     "metadata": {},
     "output_type": "display_data"
    },
    {
     "data": {
      "text/html": [
       "<pre style=\"white-space:pre;overflow-x:auto;line-height:normal;font-family:Menlo,'DejaVu Sans Mono',consolas,'Courier New',monospace\">SAT Loss: <span style=\"color: #008080; text-decoration-color: #008080; font-weight: bold\">-9.8573</span>\n",
       "</pre>\n"
      ],
      "text/plain": [
       "SAT Loss: \u001b[1;36m-9.8573\u001b[0m\n"
      ]
     },
     "metadata": {},
     "output_type": "display_data"
    },
    {
     "data": {
      "text/html": [
       "<pre style=\"white-space:pre;overflow-x:auto;line-height:normal;font-family:Menlo,'DejaVu Sans Mono',consolas,'Courier New',monospace\">Features - Student: <span style=\"color: #808000; text-decoration-color: #808000\">μ</span>=<span style=\"color: #008080; text-decoration-color: #008080; font-weight: bold\">0.0067</span> ±<span style=\"color: #008080; text-decoration-color: #008080; font-weight: bold\">1.6633</span>\n",
       "</pre>\n"
      ],
      "text/plain": [
       "Features - Student: \u001b[33mμ\u001b[0m=\u001b[1;36m0\u001b[0m\u001b[1;36m.0067\u001b[0m ±\u001b[1;36m1.6633\u001b[0m\n"
      ]
     },
     "metadata": {},
     "output_type": "display_data"
    },
    {
     "data": {
      "text/html": [
       "<pre style=\"white-space:pre;overflow-x:auto;line-height:normal;font-family:Menlo,'DejaVu Sans Mono',consolas,'Courier New',monospace\">Features - Teacher: <span style=\"color: #808000; text-decoration-color: #808000\">μ</span>=<span style=\"color: #008080; text-decoration-color: #008080; font-weight: bold\">0.0001</span> ±<span style=\"color: #008080; text-decoration-color: #008080; font-weight: bold\">1.4433</span>\n",
       "</pre>\n"
      ],
      "text/plain": [
       "Features - Teacher: \u001b[33mμ\u001b[0m=\u001b[1;36m0\u001b[0m\u001b[1;36m.0001\u001b[0m ±\u001b[1;36m1.4433\u001b[0m\n"
      ]
     },
     "metadata": {},
     "output_type": "display_data"
    },
    {
     "data": {
      "text/html": [
       "<pre style=\"white-space:pre;overflow-x:auto;line-height:normal;font-family:Menlo,'DejaVu Sans Mono',consolas,'Courier New',monospace\">\n",
       "Step <span style=\"color: #008080; text-decoration-color: #008080; font-weight: bold\">1100</span>:\n",
       "</pre>\n"
      ],
      "text/plain": [
       "\n",
       "Step \u001b[1;36m1100\u001b[0m:\n"
      ]
     },
     "metadata": {},
     "output_type": "display_data"
    },
    {
     "data": {
      "text/html": [
       "<pre style=\"white-space:pre;overflow-x:auto;line-height:normal;font-family:Menlo,'DejaVu Sans Mono',consolas,'Courier New',monospace\">SAT Loss: <span style=\"color: #008080; text-decoration-color: #008080; font-weight: bold\">-9.9233</span>\n",
       "</pre>\n"
      ],
      "text/plain": [
       "SAT Loss: \u001b[1;36m-9.9233\u001b[0m\n"
      ]
     },
     "metadata": {},
     "output_type": "display_data"
    },
    {
     "data": {
      "text/html": [
       "<pre style=\"white-space:pre;overflow-x:auto;line-height:normal;font-family:Menlo,'DejaVu Sans Mono',consolas,'Courier New',monospace\">Features - Student: <span style=\"color: #808000; text-decoration-color: #808000\">μ</span>=<span style=\"color: #008080; text-decoration-color: #008080; font-weight: bold\">0.0069</span> ±<span style=\"color: #008080; text-decoration-color: #008080; font-weight: bold\">1.7990</span>\n",
       "</pre>\n"
      ],
      "text/plain": [
       "Features - Student: \u001b[33mμ\u001b[0m=\u001b[1;36m0\u001b[0m\u001b[1;36m.0069\u001b[0m ±\u001b[1;36m1.7990\u001b[0m\n"
      ]
     },
     "metadata": {},
     "output_type": "display_data"
    },
    {
     "data": {
      "text/html": [
       "<pre style=\"white-space:pre;overflow-x:auto;line-height:normal;font-family:Menlo,'DejaVu Sans Mono',consolas,'Courier New',monospace\">Features - Teacher: <span style=\"color: #808000; text-decoration-color: #808000\">μ</span>=<span style=\"color: #008080; text-decoration-color: #008080; font-weight: bold\">0.0085</span> ±<span style=\"color: #008080; text-decoration-color: #008080; font-weight: bold\">1.8415</span>\n",
       "</pre>\n"
      ],
      "text/plain": [
       "Features - Teacher: \u001b[33mμ\u001b[0m=\u001b[1;36m0\u001b[0m\u001b[1;36m.0085\u001b[0m ±\u001b[1;36m1.8415\u001b[0m\n"
      ]
     },
     "metadata": {},
     "output_type": "display_data"
    },
    {
     "data": {
      "text/html": [
       "<pre style=\"white-space:pre;overflow-x:auto;line-height:normal;font-family:Menlo,'DejaVu Sans Mono',consolas,'Courier New',monospace\">\n",
       "Step <span style=\"color: #008080; text-decoration-color: #008080; font-weight: bold\">1150</span>:\n",
       "</pre>\n"
      ],
      "text/plain": [
       "\n",
       "Step \u001b[1;36m1150\u001b[0m:\n"
      ]
     },
     "metadata": {},
     "output_type": "display_data"
    },
    {
     "data": {
      "text/html": [
       "<pre style=\"white-space:pre;overflow-x:auto;line-height:normal;font-family:Menlo,'DejaVu Sans Mono',consolas,'Courier New',monospace\">SAT Loss: <span style=\"color: #008080; text-decoration-color: #008080; font-weight: bold\">-9.8774</span>\n",
       "</pre>\n"
      ],
      "text/plain": [
       "SAT Loss: \u001b[1;36m-9.8774\u001b[0m\n"
      ]
     },
     "metadata": {},
     "output_type": "display_data"
    },
    {
     "data": {
      "text/html": [
       "<pre style=\"white-space:pre;overflow-x:auto;line-height:normal;font-family:Menlo,'DejaVu Sans Mono',consolas,'Courier New',monospace\">Features - Student: <span style=\"color: #808000; text-decoration-color: #808000\">μ</span>=<span style=\"color: #008080; text-decoration-color: #008080; font-weight: bold\">0.0142</span> ±<span style=\"color: #008080; text-decoration-color: #008080; font-weight: bold\">1.6676</span>\n",
       "</pre>\n"
      ],
      "text/plain": [
       "Features - Student: \u001b[33mμ\u001b[0m=\u001b[1;36m0\u001b[0m\u001b[1;36m.0142\u001b[0m ±\u001b[1;36m1.6676\u001b[0m\n"
      ]
     },
     "metadata": {},
     "output_type": "display_data"
    },
    {
     "data": {
      "text/html": [
       "<pre style=\"white-space:pre;overflow-x:auto;line-height:normal;font-family:Menlo,'DejaVu Sans Mono',consolas,'Courier New',monospace\">Features - Teacher: <span style=\"color: #808000; text-decoration-color: #808000\">μ</span>=<span style=\"color: #008080; text-decoration-color: #008080; font-weight: bold\">0.0085</span> ±<span style=\"color: #008080; text-decoration-color: #008080; font-weight: bold\">1.9656</span>\n",
       "</pre>\n"
      ],
      "text/plain": [
       "Features - Teacher: \u001b[33mμ\u001b[0m=\u001b[1;36m0\u001b[0m\u001b[1;36m.0085\u001b[0m ±\u001b[1;36m1.9656\u001b[0m\n"
      ]
     },
     "metadata": {},
     "output_type": "display_data"
    },
    {
     "data": {
      "text/html": [
       "<pre style=\"white-space:pre;overflow-x:auto;line-height:normal;font-family:Menlo,'DejaVu Sans Mono',consolas,'Courier New',monospace\">\n",
       "Step <span style=\"color: #008080; text-decoration-color: #008080; font-weight: bold\">1200</span>:\n",
       "</pre>\n"
      ],
      "text/plain": [
       "\n",
       "Step \u001b[1;36m1200\u001b[0m:\n"
      ]
     },
     "metadata": {},
     "output_type": "display_data"
    },
    {
     "data": {
      "text/html": [
       "<pre style=\"white-space:pre;overflow-x:auto;line-height:normal;font-family:Menlo,'DejaVu Sans Mono',consolas,'Courier New',monospace\">SAT Loss: <span style=\"color: #008080; text-decoration-color: #008080; font-weight: bold\">-9.7573</span>\n",
       "</pre>\n"
      ],
      "text/plain": [
       "SAT Loss: \u001b[1;36m-9.7573\u001b[0m\n"
      ]
     },
     "metadata": {},
     "output_type": "display_data"
    },
    {
     "data": {
      "text/html": [
       "<pre style=\"white-space:pre;overflow-x:auto;line-height:normal;font-family:Menlo,'DejaVu Sans Mono',consolas,'Courier New',monospace\">Features - Student: <span style=\"color: #808000; text-decoration-color: #808000\">μ</span>=<span style=\"color: #008080; text-decoration-color: #008080; font-weight: bold\">0.0059</span> ±<span style=\"color: #008080; text-decoration-color: #008080; font-weight: bold\">1.2321</span>\n",
       "</pre>\n"
      ],
      "text/plain": [
       "Features - Student: \u001b[33mμ\u001b[0m=\u001b[1;36m0\u001b[0m\u001b[1;36m.0059\u001b[0m ±\u001b[1;36m1.2321\u001b[0m\n"
      ]
     },
     "metadata": {},
     "output_type": "display_data"
    },
    {
     "data": {
      "text/html": [
       "<pre style=\"white-space:pre;overflow-x:auto;line-height:normal;font-family:Menlo,'DejaVu Sans Mono',consolas,'Courier New',monospace\">Features - Teacher: <span style=\"color: #808000; text-decoration-color: #808000\">μ</span>=<span style=\"color: #008080; text-decoration-color: #008080; font-weight: bold\">0.0097</span> ±<span style=\"color: #008080; text-decoration-color: #008080; font-weight: bold\">1.2960</span>\n",
       "</pre>\n"
      ],
      "text/plain": [
       "Features - Teacher: \u001b[33mμ\u001b[0m=\u001b[1;36m0\u001b[0m\u001b[1;36m.0097\u001b[0m ±\u001b[1;36m1.2960\u001b[0m\n"
      ]
     },
     "metadata": {},
     "output_type": "display_data"
    },
    {
     "data": {
      "text/html": [
       "<pre style=\"white-space:pre;overflow-x:auto;line-height:normal;font-family:Menlo,'DejaVu Sans Mono',consolas,'Courier New',monospace\">\n",
       "Step <span style=\"color: #008080; text-decoration-color: #008080; font-weight: bold\">1250</span>:\n",
       "</pre>\n"
      ],
      "text/plain": [
       "\n",
       "Step \u001b[1;36m1250\u001b[0m:\n"
      ]
     },
     "metadata": {},
     "output_type": "display_data"
    },
    {
     "data": {
      "text/html": [
       "<pre style=\"white-space:pre;overflow-x:auto;line-height:normal;font-family:Menlo,'DejaVu Sans Mono',consolas,'Courier New',monospace\">SAT Loss: <span style=\"color: #008080; text-decoration-color: #008080; font-weight: bold\">-9.8426</span>\n",
       "</pre>\n"
      ],
      "text/plain": [
       "SAT Loss: \u001b[1;36m-9.8426\u001b[0m\n"
      ]
     },
     "metadata": {},
     "output_type": "display_data"
    },
    {
     "data": {
      "text/html": [
       "<pre style=\"white-space:pre;overflow-x:auto;line-height:normal;font-family:Menlo,'DejaVu Sans Mono',consolas,'Courier New',monospace\">Features - Student: <span style=\"color: #808000; text-decoration-color: #808000\">μ</span>=<span style=\"color: #008080; text-decoration-color: #008080; font-weight: bold\">0.0085</span> ±<span style=\"color: #008080; text-decoration-color: #008080; font-weight: bold\">1.5858</span>\n",
       "</pre>\n"
      ],
      "text/plain": [
       "Features - Student: \u001b[33mμ\u001b[0m=\u001b[1;36m0\u001b[0m\u001b[1;36m.0085\u001b[0m ±\u001b[1;36m1.5858\u001b[0m\n"
      ]
     },
     "metadata": {},
     "output_type": "display_data"
    },
    {
     "data": {
      "text/html": [
       "<pre style=\"white-space:pre;overflow-x:auto;line-height:normal;font-family:Menlo,'DejaVu Sans Mono',consolas,'Courier New',monospace\">Features - Teacher: <span style=\"color: #808000; text-decoration-color: #808000\">μ</span>=<span style=\"color: #008080; text-decoration-color: #008080; font-weight: bold\">-0.0005</span> ±<span style=\"color: #008080; text-decoration-color: #008080; font-weight: bold\">1.2986</span>\n",
       "</pre>\n"
      ],
      "text/plain": [
       "Features - Teacher: \u001b[33mμ\u001b[0m=\u001b[1;36m-0.0005\u001b[0m ±\u001b[1;36m1.2986\u001b[0m\n"
      ]
     },
     "metadata": {},
     "output_type": "display_data"
    },
    {
     "data": {
      "text/html": [
       "<pre style=\"white-space:pre;overflow-x:auto;line-height:normal;font-family:Menlo,'DejaVu Sans Mono',consolas,'Courier New',monospace\"></pre>\n"
      ],
      "text/plain": []
     },
     "metadata": {},
     "output_type": "display_data"
    },
    {
     "data": {
      "text/html": [
       "<pre style=\"white-space:pre;overflow-x:auto;line-height:normal;font-family:Menlo,'DejaVu Sans Mono',consolas,'Courier New',monospace\"><span style=\"color: #008000; text-decoration-color: #008000; font-weight: bold\">Training completed!</span>\n",
       "</pre>\n"
      ],
      "text/plain": [
       "\u001b[1;32mTraining completed!\u001b[0m\n"
      ]
     },
     "metadata": {},
     "output_type": "display_data"
    }
   ],
   "source": [
    "# Standard Library\n",
    "import os\n",
    "import sys\n",
    "import csv\n",
    "import random\n",
    "\n",
    "# Third-Party Libraries\n",
    "import numpy as np\n",
    "import torch\n",
    "import torchvision.transforms as T\n",
    "from PIL import Image\n",
    "import segmentation_models_pytorch as smp\n",
    "from monai.metrics import compute_hausdorff_distance\n",
    "\n",
    "# PyTorch Components\n",
    "from torch import nn, optim\n",
    "from torch.nn import functional as F\n",
    "from torch.utils.data import Dataset, DataLoader\n",
    "\n",
    "# Rich Components\n",
    "from rich.console import Console\n",
    "from rich.progress import Progress, BarColumn, TextColumn, TimeElapsedColumn, TimeRemainingColumn\n",
    "from rich.table import Table, Column\n",
    "from rich.live import Live\n",
    "    \n",
    "\n",
    "\n",
    "# Configuration\n",
    "CONFIG = {\n",
    "    \"labeled_img\": \"dataset/labeled_data/images\",\n",
    "    \"labeled_mask\": \"dataset/labeled_data/labels\",\n",
    "    \"unlabeled_img\": \"dataset/unlabeled_data/images\",\n",
    "    \"epochs\": 50,\n",
    "    \"batch_size\": 2,\n",
    "    \"lr\": 1e-4,\n",
    "    \"num_classes\": 3,\n",
    "    \"save_dir\": \"models\",\n",
    "    \"num_workers\": 2,\n",
    "    \"encoder\": \"efficientnet-b5\",\n",
    "    \"device\": \"cuda\" if torch.cuda.is_available() else \"cpu\"\n",
    "}\n",
    "\n",
    "# Transforms\n",
    "transform_labeled = T.Compose([\n",
    "    # T.Resize((384, 384)),\n",
    "    T.RandomHorizontalFlip(p=0.5),\n",
    "    T.ColorJitter(0.2, 0.2, 0.2, 0.1),\n",
    "    T.ToTensor(),\n",
    "])\n",
    "\n",
    "transform_unlabeled = T.Compose([\n",
    "    # T.Resize((384, 384)),\n",
    "    T.RandomHorizontalFlip(p=0.5),\n",
    "    T.ColorJitter(0.3, 0.3, 0.3, 0.2),\n",
    "    T.ToTensor(),\n",
    "])\n",
    "\n",
    "transform_mask = T.Compose([\n",
    "    # T.Resize((384, 384), interpolation=Image.NEAREST),\n",
    "    T.PILToTensor(),\n",
    "    lambda x: x.squeeze(0).long()\n",
    "])\n",
    "\n",
    "# Dataset\n",
    "class CervicalDataset(Dataset):\n",
    "    def __init__(self, img_dir, mask_dir=None):\n",
    "        self.img_dir = img_dir\n",
    "        self.mask_dir = mask_dir\n",
    "        self.images = sorted([os.path.join(img_dir, f) for f in os.listdir(img_dir) \n",
    "                            if f.endswith(('.png', '.jpg'))])\n",
    "        if mask_dir:\n",
    "            self.masks = sorted([os.path.join(mask_dir, f) for f in os.listdir(mask_dir) \n",
    "                               if f.endswith(('.png', '.jpg'))])\n",
    "\n",
    "    def __len__(self):\n",
    "        return len(self.images)\n",
    "\n",
    "    def __getitem__(self, idx):\n",
    "        image = Image.open(self.images[idx]).convert(\"RGB\")  # Properly indented\n",
    "        if self.mask_dir:\n",
    "            mask = Image.open(self.masks[idx]).convert(\"L\")\n",
    "                \n",
    "            return transform_labeled(image), transform_mask(mask)\n",
    "        return transform_unlabeled(image)\n",
    "\n",
    "# Semi-Supervised Model Wrapper\n",
    "class SemiSupervisedModel(nn.Module):\n",
    "    def __init__(self, num_classes=3, alpha=0.999):\n",
    "        super().__init__()\n",
    "        self.student = smp.DeepLabV3Plus(\n",
    "            encoder_name=CONFIG['encoder'],\n",
    "            encoder_weights='imagenet',\n",
    "            in_channels=3,\n",
    "            classes=num_classes,\n",
    "            activation=None\n",
    "        )\n",
    "        self.teacher = smp.DeepLabV3Plus(\n",
    "            encoder_name=CONFIG['encoder'],\n",
    "            encoder_weights='imagenet',\n",
    "            in_channels=3,\n",
    "            classes=num_classes,\n",
    "            activation=None\n",
    "        )\n",
    "        self._init_teacher()\n",
    "        self.alpha = alpha\n",
    "        self.teacher.eval()  # Crucial addition\n",
    "\n",
    "    def _init_teacher(self):\n",
    "        with torch.no_grad():\n",
    "            for t_param, s_param in zip(self.teacher.parameters(), self.student.parameters()):\n",
    "                t_param.data.copy_(s_param.data)\n",
    "                \n",
    "    @torch.no_grad()\n",
    "    def update_teacher(self, global_step):\n",
    "        # Improved alpha scheduling\n",
    "        alpha = min(self.alpha, 1 - (1 / (global_step/100 + 1)))  # Better initialization\n",
    "        for t_param, s_param in zip(self.teacher.parameters(), self.student.parameters()):\n",
    "            t_param.data.mul_(alpha).add_(s_param.data.detach(), alpha=1-alpha)  # Add detach()\n",
    "\n",
    "    def forward(self, x):\n",
    "        return self.student(x)\n",
    "\n",
    "# Modified HD calculation in the training loop\n",
    "\n",
    "def calculate_hd(pred, target, device):\n",
    "    hd = torch.tensor(0.0, device=device)\n",
    "    try:\n",
    "        pred_mask = (pred > 0).unsqueeze(1).float()\n",
    "        target_mask = (target > 0).unsqueeze(1).float()\n",
    "        \n",
    "        hd_values = []\n",
    "        for p, t in zip(pred_mask, target_mask):\n",
    "            hd_batch = compute_hausdorff_distance(\n",
    "                p.unsqueeze(0),\n",
    "                t.unsqueeze(0),\n",
    "                percentile=95,\n",
    "                include_background=False,\n",
    "                directed=False\n",
    "            )\n",
    "            if not torch.isnan(hd_batch):\n",
    "                hd_values.append(hd_batch)\n",
    "        \n",
    "        if hd_values:\n",
    "            hd = torch.mean(torch.stack(hd_values))\n",
    "    except Exception as e:\n",
    "        sys.stdout.write(f\"HD Error: {str(e)}\\n\")\n",
    "    \n",
    "    return hd\n",
    "\n",
    "# Loss Functions\n",
    "def compute_sat_loss(student_feats, teacher_feats, temperature=0.1):\n",
    "    # Add feature normalization and stability improvements\n",
    "    student_feats = F.normalize(student_feats, p=2, dim=1)\n",
    "    teacher_feats = F.normalize(teacher_feats, p=2, dim=1)\n",
    "    \n",
    "    # Clamp similarities to prevent numerical issues\n",
    "    sim_matrix = torch.mm(student_feats, teacher_feats.t())\n",
    "    sim_matrix = torch.clamp(sim_matrix, min=-1.0, max=1.0)\n",
    "    sim_matrix /= temperature\n",
    "    \n",
    "    # More stable positive/negative separation\n",
    "    pos_sim = torch.diag(sim_matrix)\n",
    "    neg_sim = torch.logsumexp(sim_matrix, dim=1) - pos_sim  # Numerically stable\n",
    "    \n",
    "    return - (pos_sim - neg_sim).mean()\n",
    "\n",
    "class CombinedLoss(nn.Module):\n",
    "    def __init__(self, class_weights=None):\n",
    "        super().__init__()\n",
    "        self.ce_loss = nn.CrossEntropyLoss(weight=class_weights)\n",
    "        \n",
    "    def forward(self, preds, targets):\n",
    "        ce = self.ce_loss(preds, targets)\n",
    "        preds_soft = F.softmax(preds, dim=1)\n",
    "        targets_oh = F.one_hot(targets, num_classes=CONFIG['num_classes']).permute(0,3,1,2).float()\n",
    "        intersection = (preds_soft * targets_oh).sum(dim=(2,3))\n",
    "        union = preds_soft.sum(dim=(2,3)) + targets_oh.sum(dim=(2,3))\n",
    "        dice = 1 - (2 * intersection + 1e-6) / (union + 1e-6)\n",
    "        return ce + dice.mean()\n",
    "\n",
    "def train():\n",
    "    device = torch.device(CONFIG['device'])\n",
    "    os.makedirs(CONFIG['save_dir'], exist_ok=True)\n",
    "\n",
    "    # Delete existing CSV file\n",
    "    csv_path = os.path.join(CONFIG['save_dir'], 'training_metrics.csv')\n",
    "    if os.path.exists(csv_path):\n",
    "        os.remove(csv_path)\n",
    "\n",
    "    # Initialize datasets and loaders\n",
    "    labeled_ds = CervicalDataset(CONFIG['labeled_img'], CONFIG['labeled_mask'])\n",
    "    unlabeled_ds = CervicalDataset(CONFIG['unlabeled_img'])\n",
    "    \n",
    "    # Calculate class weights\n",
    "    class_counts = torch.zeros(CONFIG['num_classes'])\n",
    "    for _, mask in labeled_ds:\n",
    "        class_counts += torch.bincount(mask.flatten(), minlength=CONFIG['num_classes'])\n",
    "    class_weights = (1.0 / (class_counts / class_counts.sum())).to(device)\n",
    "    \n",
    "    labeled_loader = DataLoader(labeled_ds, batch_size=CONFIG['batch_size'], \n",
    "                              shuffle=True, num_workers=CONFIG['num_workers'], pin_memory=True)\n",
    "    unlabeled_loader = DataLoader(unlabeled_ds, batch_size=CONFIG['batch_size']*2,\n",
    "                                 shuffle=True, num_workers=CONFIG['num_workers'], pin_memory=True)\n",
    "    \n",
    "    # Initialize model and optimizer\n",
    "    model = SemiSupervisedModel(num_classes=CONFIG['num_classes']).to(device)\n",
    "    optimizer = optim.AdamW(model.parameters(), lr=CONFIG['lr'], weight_decay=1e-4)\n",
    "    scheduler = torch.optim.lr_scheduler.CosineAnnealingLR(optimizer, T_max=CONFIG['epochs'])\n",
    "    sup_criterion = CombinedLoss(class_weights)\n",
    "    unsup_criterion = CombinedLoss()\n",
    "\n",
    "    # CSV setup\n",
    "    csv_header = ['Epoch', 'Loss', 'Sup Loss', 'Unsup Loss', 'SAT Loss',\n",
    "                 'FG Acc', 'Precision', 'Recall', 'F1', 'Dice', 'HD']\n",
    "    metric_keys = ['total', 'sup', 'unsup', 'sat',\n",
    "                  'fg_acc', 'precision', 'recall', 'f1', 'dice', 'hd']\n",
    "    \n",
    "    # Rich components setup\n",
    "    console = Console()\n",
    "    progress = Progress(\n",
    "        TextColumn(\"[bold blue]{task.description}\"), \n",
    "        BarColumn(bar_width=None),\n",
    "        TextColumn(\"[progress.percentage]{task.percentage:>3.0f}%\"),\n",
    "        TimeRemainingColumn(),\n",
    "        TimeElapsedColumn(),\n",
    "        transient=True,\n",
    "        expand=True\n",
    "    )\n",
    "    \n",
    "    # Progress tasks\n",
    "    overall_task = progress.add_task(\"Total Training\", total=CONFIG['epochs'])\n",
    "    epoch_task = progress.add_task(\"Current Epoch\", total=min(len(labeled_loader), len(unlabeled_loader)), visible=False)\n",
    "    \n",
    "    # Metrics table setup\n",
    "    metric_columns = [\n",
    "        Column(\"Loss\", justify=\"center\", min_width=8),\n",
    "        Column(\"Sup Loss\", justify=\"center\", min_width=8),\n",
    "        Column(\"Unsup Loss\", justify=\"center\", min_width=10),\n",
    "        Column(\"SAT Loss\", justify=\"center\", min_width=8),\n",
    "        Column(\"FG Acc\", justify=\"center\", min_width=8),\n",
    "        Column(\"Precision\", justify=\"center\", min_width=9),\n",
    "        Column(\"Recall\", justify=\"center\", min_width=7),\n",
    "        Column(\"F1\", justify=\"center\", min_width=6),\n",
    "        Column(\"Dice\", justify=\"center\", min_width=6),\n",
    "        Column(\"HD\", justify=\"center\", min_width=6)\n",
    "    ]\n",
    "    \n",
    "    table = Table(\n",
    "        Column(\"Epoch\", justify=\"right\", min_width=5),\n",
    "        *metric_columns,\n",
    "        show_header=True,\n",
    "        header_style=\"bold magenta\",\n",
    "        expand=True,\n",
    "        box=None\n",
    "    )\n",
    "\n",
    "    # Live display layout\n",
    "    layout = Table.grid(expand=True)\n",
    "    layout.add_row(progress)\n",
    "    layout.add_row(table)\n",
    "    \n",
    "    with Live(layout, console=console, refresh_per_second=10, vertical_overflow=\"visible\") as live:\n",
    "        best_dice = 0.0\n",
    "        global_step = 0\n",
    "        \n",
    "        for epoch in range(CONFIG['epochs']):\n",
    "            model.train()\n",
    "            metrics = {\n",
    "                'total': [], 'sup': [], 'unsup': [], 'sat': [],\n",
    "                'fg_acc': [], 'precision': [], 'recall': [], 'f1': [],\n",
    "                'dice': [], 'hd': []\n",
    "            }\n",
    "            \n",
    "            progress.reset(epoch_task)\n",
    "            progress.update(epoch_task, visible=True)\n",
    "            \n",
    "            # Dynamic parameters\n",
    "            current_thresh = 0.65 + min(epoch/CONFIG['epochs'], 1)*0.25\n",
    "            current_lambda_unsup = min(epoch/10 * 0.5, 0.5)\n",
    "            current_lambda_sat = 0.5 * (1 - epoch/CONFIG['epochs'])  # Increased weight\n",
    "            \n",
    "            # Batch iteration\n",
    "            for (labeled_x, labeled_y), unlabeled_x in zip(labeled_loader, unlabeled_loader):\n",
    "                labeled_x, labeled_y = labeled_x.to(device), labeled_y.to(device)\n",
    "                unlabeled_x = unlabeled_x.to(device)\n",
    "                \n",
    "                # ========== Supervised Forward ==========\n",
    "                student_preds = model(labeled_x)\n",
    "                sup_loss = sup_criterion(student_preds, labeled_y)\n",
    "                \n",
    "                # ========== Unsupervised Forward ==========\n",
    "                with torch.no_grad():\n",
    "                    # Teacher predictions\n",
    "                    teacher_preds = model.teacher(unlabeled_x)\n",
    "                    pseudo_probs = F.softmax(teacher_preds, dim=1)\n",
    "                    max_probs, pseudo_labels = torch.max(pseudo_probs, dim=1)\n",
    "                    mask = (max_probs > current_thresh).float()\n",
    "                    \n",
    "                    # Teacher features\n",
    "                    t_features = model.teacher.encoder(unlabeled_x)[-1]\n",
    "                    t_features = F.adaptive_avg_pool2d(t_features, (1, 1)).flatten(1)\n",
    "                \n",
    "                # Student features (with gradients)\n",
    "                s_features = model.student.encoder(unlabeled_x)[-1]\n",
    "                s_features = F.adaptive_avg_pool2d(s_features, (1, 1)).flatten(1)\n",
    "                \n",
    "                # ========== Loss Calculations ==========\n",
    "                # Feature alignment loss\n",
    "                sat_loss = compute_sat_loss(s_features, t_features)\n",
    "                \n",
    "                # Unsupervised loss\n",
    "                unsup_loss = 0.0\n",
    "                if mask.sum() > 0:\n",
    "                    student_u_preds = model(unlabeled_x)\n",
    "                    unsup_loss = unsup_criterion(student_u_preds, pseudo_labels) * mask.mean()\n",
    "                \n",
    "                # Total loss\n",
    "                total_loss = sup_loss + current_lambda_unsup*unsup_loss + current_lambda_sat*sat_loss\n",
    "                \n",
    "                # ========== Optimization ==========\n",
    "                optimizer.zero_grad()\n",
    "                total_loss.backward()\n",
    "                nn.utils.clip_grad_norm_(model.parameters(), 1.0)\n",
    "                optimizer.step()\n",
    "                model.update_teacher(global_step)\n",
    "                global_step += 1\n",
    "                \n",
    "                # ========== Metrics Calculation ==========\n",
    "                with torch.no_grad():\n",
    "                    pred = student_preds.argmax(1)\n",
    "                    target = labeled_y\n",
    "                    \n",
    "                    # Foreground metrics\n",
    "                    fg_mask = target != 0\n",
    "                    fg_acc = (pred[fg_mask] == target[fg_mask]).float().mean() if fg_mask.any() else torch.tensor(0.0)\n",
    "                    \n",
    "                    # Precision/Recall/F1\n",
    "                    tp = ((pred > 0) & (target > 0)).sum()\n",
    "                    fp = ((pred > 0) & (target == 0)).sum()\n",
    "                    fn = ((pred == 0) & (target > 0)).sum()\n",
    "                    \n",
    "                    epsilon = 1e-7\n",
    "                    precision = tp / (tp + fp + epsilon)\n",
    "                    recall = tp / (tp + fn + epsilon)\n",
    "                    f1 = 2 * (precision * recall) / (precision + recall + epsilon)\n",
    "                    \n",
    "                    # Dice score\n",
    "                    dice = (2 * (pred == target).sum() / \n",
    "                           (pred.numel() + target.numel() + epsilon))\n",
    "                    \n",
    "                    # Hausdorff Distance\n",
    "                    hd = calculate_hd(pred, target, device)\n",
    "                \n",
    "                # Update metrics\n",
    "                metrics['total'].append(round(total_loss.item(), 2))\n",
    "                metrics['sup'].append(round(sup_loss.item(), 2))\n",
    "                metrics['unsup'].append(round(unsup_loss.item() if unsup_loss !=0 else 0.0, 2))\n",
    "                metrics['sat'].append(round(sat_loss.item(), 2))\n",
    "                metrics['fg_acc'].append(round(fg_acc.item(), 2))\n",
    "                metrics['precision'].append(round(precision.item(), 2))\n",
    "                metrics['recall'].append(round(recall.item(), 2))\n",
    "                metrics['f1'].append(round(f1.item(), 2))\n",
    "                metrics['dice'].append(round(dice.item(), 2))\n",
    "                metrics['hd'].append(round(hd.item(), 2))\n",
    "                \n",
    "                # Debug prints\n",
    "                if global_step % 50 == 0:\n",
    "                    console.print(f\"\\nStep {global_step}:\")\n",
    "                    console.print(f\"SAT Loss: {sat_loss.item():.4f}\")\n",
    "                    console.print(f\"Features - Student: μ={s_features.mean().item():.4f} ±{s_features.std().item():.4f}\")\n",
    "                    console.print(f\"Features - Teacher: μ={t_features.mean().item():.4f} ±{t_features.std().item():.4f}\")\n",
    "                \n",
    "                progress.update(epoch_task, advance=1)\n",
    "\n",
    "            # ========== Epoch Statistics ==========\n",
    "            epoch_stats = [str(epoch+1)]\n",
    "            for k in metric_keys:\n",
    "                mean = round(np.mean(metrics[k]), 2)\n",
    "                std = round(np.std(metrics[k]), 2)\n",
    "                formatted = f\"{mean:.2f} ± {std:.2f}\"\n",
    "                epoch_stats.append(formatted)\n",
    "            \n",
    "            # Update table and save model\n",
    "            table.add_row(*epoch_stats)\n",
    "            with open(csv_path, 'a', newline='') as f:\n",
    "                writer = csv.writer(f)\n",
    "                if epoch == 0:\n",
    "                    writer.writerow(csv_header)\n",
    "                writer.writerow([epoch+1] + [f\"{mean:.2f} ± {std:.2f}\" \n",
    "                                           for mean, std in zip(\n",
    "                                               [round(np.mean(metrics[k]), 2) for k in metric_keys],\n",
    "                                               [round(np.std(metrics[k]), 2) for k in metric_keys])\n",
    "                                           ])\n",
    "            \n",
    "            # Update progress\n",
    "            progress.update(overall_task, advance=1)\n",
    "            progress.update(epoch_task, visible=False)\n",
    "            torch.save(model.state_dict(), os.path.join(CONFIG['save_dir'], f\"epoch_{epoch+1}.pth\"))\n",
    "            torch.save(model.student.state_dict(), os.path.join(CONFIG['save_dir'], f\"epoch_{epoch+1}_student.pth\"))\n",
    "            scheduler.step()\n",
    "    \n",
    "    console.print(\"[bold green]Training completed![/bold green]\")\n",
    "\n",
    "if __name__ == \"__main__\":\n",
    "    train()\n"
   ]
  },
  {
   "cell_type": "code",
   "execution_count": 3,
   "id": "c6804d38-4ef1-4592-81ef-0305a0e44fea",
   "metadata": {},
   "outputs": [],
   "source": [
    "def generate_and_save_masks(model, unlabeled_img_dir, device=\"cuda\"):\n",
    "    \"\"\"Generate masks for unlabeled images and save in parallel 'labels' folder\"\"\"\n",
    "    # Create labels directory at same level as images\n",
    "    base_dir = os.path.dirname(unlabeled_img_dir)\n",
    "    labels_dir = os.path.join(base_dir, \"labels\")\n",
    "    os.makedirs(labels_dir, exist_ok=True)\n",
    "    \n",
    "    transform = T.Compose([\n",
    "        T.Resize((256, 256)),\n",
    "        T.ToTensor(),\n",
    "    ])\n",
    "    \n",
    "    model.eval()\n",
    "    image_paths = [f for f in os.listdir(unlabeled_img_dir) \n",
    "                  if f.endswith(('.png', '.jpg', '.jpeg'))]\n",
    "    \n",
    "    with torch.no_grad():\n",
    "        for img_name in tqdm(image_paths, desc=\"Generating Labels\"):\n",
    "            img_path = os.path.join(unlabeled_img_dir, img_name)\n",
    "            image = Image.open(img_path).convert(\"RGB\")\n",
    "            input_tensor = transform(image).unsqueeze(0).to(device)\n",
    "            \n",
    "            # Predict and save\n",
    "            output = model(input_tensor)\n",
    "            mask = torch.argmax(output.squeeze(), dim=0).cpu().numpy().astype(np.uint8)\n",
    "            \n",
    "            # Save with same name in labels folder\n",
    "            base_name = os.path.splitext(img_name)[0]\n",
    "            mask_path = os.path.join(labels_dir, f\"{base_name}.png\")\n",
    "            Image.fromarray(mask).save(mask_path)\n",
    "\n",
    "def visualize_predictions(image_dir, labels_dir=None, model=None, num_samples=4, device=\"cuda\"):\n",
    "    \"\"\"Visualize images with ground truth/predicted labels\"\"\"\n",
    "    # Create dataset\n",
    "    dataset = CervicalDataset(image_dir, labels_dir)\n",
    "    loader = DataLoader(dataset, batch_size=num_samples, shuffle=True)\n",
    "    \n",
    "    # Get batch\n",
    "    images, labels = next(iter(loader)) if labels_dir else (next(iter(loader)), None)\n",
    "    \n",
    "    # Get predictions if model provided\n",
    "    if model:\n",
    "        model.eval()\n",
    "        with torch.no_grad():\n",
    "            inputs = images.to(device)\n",
    "            outputs = model(inputs)\n",
    "            pred_labels = torch.argmax(outputs.cpu(), dim=1)\n",
    "    \n",
    "    # Setup plot\n",
    "    plt.figure(figsize=(20, 10 if model else 5))\n",
    "    cols = 3 if (model and labels_dir) else 2\n",
    "    class_colors = {0: [0,0,0], 1: [255,0,0], 2: [0,255,0]}  # Update based on classes\n",
    "    \n",
    "    for i in range(num_samples):\n",
    "        # Original Image\n",
    "        plt.subplot(num_samples, cols, i*cols + 1)\n",
    "        img = images[i].permute(1, 2, 0).numpy()\n",
    "        plt.imshow(img)\n",
    "        plt.title(\"Input Image\")\n",
    "        plt.axis('off')\n",
    "        \n",
    "        # Ground Truth Labels (if available)\n",
    "        if labels_dir and labels is not None:\n",
    "            plt.subplot(num_samples, cols, i*cols + 2)\n",
    "            label = labels[i].numpy()\n",
    "            colored_label = np.zeros((*label.shape, 3), dtype=np.uint8)\n",
    "            for class_id, color in class_colors.items():\n",
    "                colored_label[label == class_id] = color\n",
    "            plt.imshow(colored_label)\n",
    "            plt.title(\"Ground Truth\")\n",
    "            plt.axis('off')\n",
    "        \n",
    "        # Predicted Labels (if model provided)\n",
    "        if model:\n",
    "            col_idx = i*cols + (3 if labels_dir else 2)\n",
    "            plt.subplot(num_samples, cols, col_idx)\n",
    "            pred = pred_labels[i].numpy()\n",
    "            colored_pred = np.zeros((*pred.shape, 3), dtype=np.uint8)\n",
    "            for class_id, color in class_colors.items():\n",
    "                colored_pred[pred == class_id] = color\n",
    "            \n",
    "            plt.imshow(colored_pred)\n",
    "            plt.title(\"Predicted Labels\")\n",
    "            plt.axis('off')\n",
    "    \n",
    "    plt.tight_layout()\n",
    "    plt.show()"
   ]
  },
  {
   "cell_type": "code",
   "execution_count": 4,
   "id": "6e95e0f5-1cbe-4b7d-b5f4-8a0921f808a3",
   "metadata": {},
   "outputs": [],
   "source": [
    "# After training\n",
    "device=\"cuda\""
   ]
  },
  {
   "cell_type": "code",
   "execution_count": 5,
   "id": "37e1a8ef-9aee-4b9d-bf86-704250a55a53",
   "metadata": {},
   "outputs": [
    {
     "data": {
      "text/plain": [
       "<All keys matched successfully>"
      ]
     },
     "execution_count": 5,
     "metadata": {},
     "output_type": "execute_result"
    }
   ],
   "source": [
    "model = SemiSupervisedModel(num_classes=3).to(device)\n",
    "model.load_state_dict(torch.load(\"models/epoch_50.pth\"))  # Load best model"
   ]
  },
  {
   "cell_type": "code",
   "execution_count": 6,
   "id": "4697492c-1314-47f6-b208-028ed0984e0e",
   "metadata": {},
   "outputs": [
    {
     "name": "stderr",
     "output_type": "stream",
     "text": [
      "Generating Labels: 100%|██████████████████████████████████████████████████████████████████████████████████████████████████████████████████████████████| 450/450 [00:11<00:00, 37.89it/s]\n"
     ]
    }
   ],
   "source": [
    "# Generate labels for unlabeled data\n",
    "generate_and_save_masks(\n",
    "    model=model,\n",
    "    unlabeled_img_dir=\"dataset/unlabeled_data/images\",\n",
    "    device=device\n",
    ")"
   ]
  },
  {
   "cell_type": "code",
   "execution_count": 7,
   "id": "c6b99c8e-720c-43a4-a733-be522f9e4322",
   "metadata": {},
   "outputs": [
    {
     "data": {
      "image/png": "[encoded data removed]",
      "text/plain": [
       "<Figure size 2000x500 with 8 Axes>"
      ]
     },
     "metadata": {},
     "output_type": "display_data"
    }
   ],
   "source": [
    "# Visualize unlabeled data with generated labels\n",
    "visualize_predictions(\n",
    "    image_dir=\"dataset/unlabeled_data/images\",\n",
    "    labels_dir=\"dataset/unlabeled_data/labels\",\n",
    "    num_samples=4\n",
    ")"
   ]
  },
  {
   "cell_type": "code",
   "execution_count": null,
   "id": "3464b903-404a-4ece-821f-574d7d3c4c63",
   "metadata": {},
   "outputs": [],
   "source": []
  }
 ],
 "metadata": {
  "kernelspec": {
   "display_name": "Python 3 (ipykernel)",
   "language": "python",
   "name": "python3"
  },
  "language_info": {
   "codemirror_mode": {
    "name": "ipython",
    "version": 3
   },
   "file_extension": ".py",
   "mimetype": "text/x-python",
   "name": "python",
   "nbconvert_exporter": "python",
   "pygments_lexer": "ipython3",
   "version": "3.10.12"
  }
 },
 "nbformat": 4,
 "nbformat_minor": 5
}
